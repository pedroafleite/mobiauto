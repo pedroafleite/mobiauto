{
  "nbformat": 4,
  "nbformat_minor": 0,
  "metadata": {
    "kernelspec": {
      "display_name": "Python 3",
      "language": "python",
      "name": "python3"
    },
    "language_info": {
      "codemirror_mode": {
        "name": "ipython",
        "version": 3
      },
      "file_extension": ".py",
      "mimetype": "text/x-python",
      "name": "python",
      "nbconvert_exporter": "python",
      "pygments_lexer": "ipython3",
      "version": "3.8.3"
    },
    "colab": {
      "name": "car_data.ipynb",
      "provenance": [],
      "collapsed_sections": [],
      "include_colab_link": true
    }
  },
  "cells": [
    {
      "cell_type": "markdown",
      "metadata": {
        "id": "view-in-github",
        "colab_type": "text"
      },
      "source": [
        "<a href=\"https://colab.research.google.com/github/pedroafleite/test/blob/main/car_data.ipynb\" target=\"_parent\"><img src=\"https://colab.research.google.com/assets/colab-badge.svg\" alt=\"Open In Colab\"/></a>"
      ]
    },
    {
      "cell_type": "markdown",
      "metadata": {
        "id": "loCtHAz02DEX"
      },
      "source": [
        "# Mobiauto: Análise de Dados e Predição\n",
        "\n",
        "Ainda que preços de carro sejam tabelados pela FIPE (Fundação Instituto de Pesquisas Econômicas), na prática, os preços anunciados variam bastante. Isto acontece porque existem outros fatores a serem considerados além do preço tabelado: utilidade, condições de preservação, renda per capita da população local e, até mesmo, o valor emocional do carro. Neste exercício, utilizaremos técnicas de Machine Learning para prever qual o preço de mercado do carro com base nas informações disponibilizadas pela Mobiauto. \n",
        "\n",
        "\n",
        "\n",
        "Seguiremos as seguintes etapas na análise:\n",
        "1. Descrição dos dados\n",
        "2. Limpeza\n",
        "3. Análise Exploratória\n",
        "4. Preparação\n",
        "5. Modelagem\n",
        "6. Interpretação\n",
        "\n",
        "\n"
      ]
    },
    {
      "cell_type": "code",
      "metadata": {
        "colab": {
          "base_uri": "https://localhost:8080/"
        },
        "id": "Ja55VPSa2DEm",
        "outputId": "0614f3f4-cba1-455b-8b2d-a04c46171fa2"
      },
      "source": [
        "import numpy as np\n",
        "import pandas as pd\n",
        "import matplotlib.pyplot as plt\n",
        "%matplotlib inline\n",
        "import seaborn as sns\n",
        "\n",
        "import warnings\n",
        "def ignore_warn(*args, **kwargs):\n",
        "    pass\n",
        "warnings.warn = ignore_warn # ignorar alertas do jupyter notebook\n",
        "\n",
        "from google.colab import drive\n",
        "drive.mount('/content/drive')"
      ],
      "execution_count": null,
      "outputs": [
        {
          "output_type": "stream",
          "text": [
            "Drive already mounted at /content/drive; to attempt to forcibly remount, call drive.mount(\"/content/drive\", force_remount=True).\n"
          ],
          "name": "stdout"
        }
      ]
    },
    {
      "cell_type": "markdown",
      "metadata": {
        "id": "qwXa27gTSHrT"
      },
      "source": [
        "## Descrição dos dados"
      ]
    },
    {
      "cell_type": "code",
      "metadata": {
        "scrolled": true,
        "colab": {
          "base_uri": "https://localhost:8080/",
          "height": 204
        },
        "id": "GwH9FRIO2DEo",
        "outputId": "191dd7fb-637c-4ebc-f2a7-2e5ae01d7d50"
      },
      "source": [
        "car = pd.read_csv('/content/drive/MyDrive/Colab Notebooks/car_data/car_data.csv')\n",
        "car.head(5)"
      ],
      "execution_count": null,
      "outputs": [
        {
          "output_type": "execute_result",
          "data": {
            "text/html": [
              "<div>\n",
              "<style scoped>\n",
              "    .dataframe tbody tr th:only-of-type {\n",
              "        vertical-align: middle;\n",
              "    }\n",
              "\n",
              "    .dataframe tbody tr th {\n",
              "        vertical-align: top;\n",
              "    }\n",
              "\n",
              "    .dataframe thead th {\n",
              "        text-align: right;\n",
              "    }\n",
              "</style>\n",
              "<table border=\"1\" class=\"dataframe\">\n",
              "  <thead>\n",
              "    <tr style=\"text-align: right;\">\n",
              "      <th></th>\n",
              "      <th>createdat</th>\n",
              "      <th>make</th>\n",
              "      <th>model</th>\n",
              "      <th>modelyear</th>\n",
              "      <th>fipe_price</th>\n",
              "      <th>price</th>\n",
              "      <th>km</th>\n",
              "      <th>region</th>\n",
              "      <th>phonearea</th>\n",
              "      <th>color</th>\n",
              "      <th>engine</th>\n",
              "      <th>bodystyle</th>\n",
              "      <th>fuel</th>\n",
              "    </tr>\n",
              "  </thead>\n",
              "  <tbody>\n",
              "    <tr>\n",
              "      <th>0</th>\n",
              "      <td>2020-10-01T00:04:06Z</td>\n",
              "      <td>Ford</td>\n",
              "      <td>Ka</td>\n",
              "      <td>2019</td>\n",
              "      <td>47482.0</td>\n",
              "      <td>49900.0</td>\n",
              "      <td>25241.0</td>\n",
              "      <td>SP</td>\n",
              "      <td>11</td>\n",
              "      <td>Cinza</td>\n",
              "      <td>1.5</td>\n",
              "      <td>Hatch</td>\n",
              "      <td>Flex</td>\n",
              "    </tr>\n",
              "    <tr>\n",
              "      <th>1</th>\n",
              "      <td>2020-10-01T00:44:06Z</td>\n",
              "      <td>Hyundai</td>\n",
              "      <td>ix35</td>\n",
              "      <td>2019</td>\n",
              "      <td>86978.0</td>\n",
              "      <td>89900.0</td>\n",
              "      <td>23000.0</td>\n",
              "      <td>RJ</td>\n",
              "      <td>21</td>\n",
              "      <td>Branco</td>\n",
              "      <td>2.0</td>\n",
              "      <td>SUV</td>\n",
              "      <td>Flex</td>\n",
              "    </tr>\n",
              "    <tr>\n",
              "      <th>2</th>\n",
              "      <td>2020-10-01T01:05:18Z</td>\n",
              "      <td>Volkswagen</td>\n",
              "      <td>Saveiro</td>\n",
              "      <td>2014</td>\n",
              "      <td>32554.0</td>\n",
              "      <td>36900.0</td>\n",
              "      <td>59650.0</td>\n",
              "      <td>PR</td>\n",
              "      <td>41</td>\n",
              "      <td>Branco</td>\n",
              "      <td>1.6</td>\n",
              "      <td>Picapes</td>\n",
              "      <td>Flex</td>\n",
              "    </tr>\n",
              "    <tr>\n",
              "      <th>3</th>\n",
              "      <td>2020-10-01T01:05:41Z</td>\n",
              "      <td>Chevrolet</td>\n",
              "      <td>Prisma</td>\n",
              "      <td>2013</td>\n",
              "      <td>31612.0</td>\n",
              "      <td>31900.0</td>\n",
              "      <td>123570.0</td>\n",
              "      <td>PR</td>\n",
              "      <td>41</td>\n",
              "      <td>Branco</td>\n",
              "      <td>1.0</td>\n",
              "      <td>Sedan</td>\n",
              "      <td>Flex</td>\n",
              "    </tr>\n",
              "    <tr>\n",
              "      <th>4</th>\n",
              "      <td>2020-10-01T01:08:43Z</td>\n",
              "      <td>Fiat</td>\n",
              "      <td>Uno</td>\n",
              "      <td>2015</td>\n",
              "      <td>28313.0</td>\n",
              "      <td>29890.0</td>\n",
              "      <td>63111.0</td>\n",
              "      <td>RJ</td>\n",
              "      <td>21</td>\n",
              "      <td>Branco</td>\n",
              "      <td>1.0</td>\n",
              "      <td>Hatch</td>\n",
              "      <td>Flex</td>\n",
              "    </tr>\n",
              "  </tbody>\n",
              "</table>\n",
              "</div>"
            ],
            "text/plain": [
              "              createdat        make    model  ...  engine  bodystyle  fuel\n",
              "0  2020-10-01T00:04:06Z        Ford       Ka  ...     1.5      Hatch  Flex\n",
              "1  2020-10-01T00:44:06Z     Hyundai     ix35  ...     2.0        SUV  Flex\n",
              "2  2020-10-01T01:05:18Z  Volkswagen  Saveiro  ...     1.6    Picapes  Flex\n",
              "3  2020-10-01T01:05:41Z   Chevrolet   Prisma  ...     1.0      Sedan  Flex\n",
              "4  2020-10-01T01:08:43Z        Fiat      Uno  ...     1.0      Hatch  Flex\n",
              "\n",
              "[5 rows x 13 columns]"
            ]
          },
          "metadata": {
            "tags": []
          },
          "execution_count": 2
        }
      ]
    },
    {
      "cell_type": "code",
      "metadata": {
        "colab": {
          "base_uri": "https://localhost:8080/"
        },
        "id": "GKigBsXtJAXZ",
        "outputId": "c181a43f-34b4-4c5b-9c89-8ee3732b3681"
      },
      "source": [
        "car.shape # lines, columns"
      ],
      "execution_count": null,
      "outputs": [
        {
          "output_type": "execute_result",
          "data": {
            "text/plain": [
              "(385856, 13)"
            ]
          },
          "metadata": {
            "tags": []
          },
          "execution_count": 3
        }
      ]
    },
    {
      "cell_type": "code",
      "metadata": {
        "colab": {
          "base_uri": "https://localhost:8080/"
        },
        "id": "atyR0CdEJKxp",
        "outputId": "e2092ccb-76ca-4c01-d537-efcc1dd856f0"
      },
      "source": [
        "car.info()"
      ],
      "execution_count": null,
      "outputs": [
        {
          "output_type": "stream",
          "text": [
            "<class 'pandas.core.frame.DataFrame'>\n",
            "RangeIndex: 385856 entries, 0 to 385855\n",
            "Data columns (total 13 columns):\n",
            " #   Column      Non-Null Count   Dtype  \n",
            "---  ------      --------------   -----  \n",
            " 0   createdat   385856 non-null  object \n",
            " 1   make        385856 non-null  object \n",
            " 2   model       385856 non-null  object \n",
            " 3   modelyear   385856 non-null  int64  \n",
            " 4   fipe_price  363229 non-null  float64\n",
            " 5   price       385620 non-null  float64\n",
            " 6   km          383192 non-null  float64\n",
            " 7   region      385856 non-null  object \n",
            " 8   phonearea   385856 non-null  int64  \n",
            " 9   color       385856 non-null  object \n",
            " 10  engine      378915 non-null  object \n",
            " 11  bodystyle   385856 non-null  object \n",
            " 12  fuel        385856 non-null  object \n",
            "dtypes: float64(3), int64(2), object(8)\n",
            "memory usage: 38.3+ MB\n"
          ],
          "name": "stdout"
        }
      ]
    },
    {
      "cell_type": "code",
      "metadata": {
        "colab": {
          "base_uri": "https://localhost:8080/"
        },
        "id": "rYQdAvcUJRWp",
        "outputId": "fe7f2cc5-cd95-4a81-ed2a-7e45ea295b9e"
      },
      "source": [
        "car.isna().sum()"
      ],
      "execution_count": null,
      "outputs": [
        {
          "output_type": "execute_result",
          "data": {
            "text/plain": [
              "createdat         0\n",
              "make              0\n",
              "model             0\n",
              "modelyear         0\n",
              "fipe_price    22627\n",
              "price           236\n",
              "km             2664\n",
              "region            0\n",
              "phonearea         0\n",
              "color             0\n",
              "engine         6941\n",
              "bodystyle         0\n",
              "fuel              0\n",
              "dtype: int64"
            ]
          },
          "metadata": {
            "tags": []
          },
          "execution_count": 5
        }
      ]
    },
    {
      "cell_type": "markdown",
      "metadata": {
        "id": "QQaW8TBflz4a"
      },
      "source": [
        "Mais de 20 mil dados nulos na coluna **fipe_price**. Isso poderia ser um problema, mas felizmente, o dataset é bem grande, com cerca de 385 mil entradas, e pode suportar a perda desses dados. Caso haja problemas com relação à escassez de dados, marcaremos este ponto para voltar no futuro. "
      ]
    },
    {
      "cell_type": "code",
      "metadata": {
        "colab": {
          "base_uri": "https://localhost:8080/",
          "height": 390
        },
        "id": "BLO_wWi5Ja-z",
        "outputId": "1e01974e-b33f-4b76-ceaa-5cc18683e4c4"
      },
      "source": [
        "car.describe(include=\"all\")"
      ],
      "execution_count": null,
      "outputs": [
        {
          "output_type": "execute_result",
          "data": {
            "text/html": [
              "<div>\n",
              "<style scoped>\n",
              "    .dataframe tbody tr th:only-of-type {\n",
              "        vertical-align: middle;\n",
              "    }\n",
              "\n",
              "    .dataframe tbody tr th {\n",
              "        vertical-align: top;\n",
              "    }\n",
              "\n",
              "    .dataframe thead th {\n",
              "        text-align: right;\n",
              "    }\n",
              "</style>\n",
              "<table border=\"1\" class=\"dataframe\">\n",
              "  <thead>\n",
              "    <tr style=\"text-align: right;\">\n",
              "      <th></th>\n",
              "      <th>createdat</th>\n",
              "      <th>make</th>\n",
              "      <th>model</th>\n",
              "      <th>modelyear</th>\n",
              "      <th>fipe_price</th>\n",
              "      <th>price</th>\n",
              "      <th>km</th>\n",
              "      <th>region</th>\n",
              "      <th>phonearea</th>\n",
              "      <th>color</th>\n",
              "      <th>engine</th>\n",
              "      <th>bodystyle</th>\n",
              "      <th>fuel</th>\n",
              "    </tr>\n",
              "  </thead>\n",
              "  <tbody>\n",
              "    <tr>\n",
              "      <th>count</th>\n",
              "      <td>385856</td>\n",
              "      <td>385856</td>\n",
              "      <td>385856</td>\n",
              "      <td>385856.000000</td>\n",
              "      <td>3.632290e+05</td>\n",
              "      <td>3.856200e+05</td>\n",
              "      <td>3.831920e+05</td>\n",
              "      <td>385856</td>\n",
              "      <td>385856.000000</td>\n",
              "      <td>385856</td>\n",
              "      <td>378915</td>\n",
              "      <td>385856</td>\n",
              "      <td>385856</td>\n",
              "    </tr>\n",
              "    <tr>\n",
              "      <th>unique</th>\n",
              "      <td>351748</td>\n",
              "      <td>57</td>\n",
              "      <td>657</td>\n",
              "      <td>NaN</td>\n",
              "      <td>NaN</td>\n",
              "      <td>NaN</td>\n",
              "      <td>NaN</td>\n",
              "      <td>27</td>\n",
              "      <td>NaN</td>\n",
              "      <td>18</td>\n",
              "      <td>208</td>\n",
              "      <td>10</td>\n",
              "      <td>3</td>\n",
              "    </tr>\n",
              "    <tr>\n",
              "      <th>top</th>\n",
              "      <td>2020-10-06T05:54:43Z</td>\n",
              "      <td>Chevrolet</td>\n",
              "      <td>Onix</td>\n",
              "      <td>NaN</td>\n",
              "      <td>NaN</td>\n",
              "      <td>NaN</td>\n",
              "      <td>NaN</td>\n",
              "      <td>SP</td>\n",
              "      <td>NaN</td>\n",
              "      <td>Branco</td>\n",
              "      <td>1.0</td>\n",
              "      <td>Hatch</td>\n",
              "      <td>Flex</td>\n",
              "    </tr>\n",
              "    <tr>\n",
              "      <th>freq</th>\n",
              "      <td>21</td>\n",
              "      <td>63178</td>\n",
              "      <td>20467</td>\n",
              "      <td>NaN</td>\n",
              "      <td>NaN</td>\n",
              "      <td>NaN</td>\n",
              "      <td>NaN</td>\n",
              "      <td>169524</td>\n",
              "      <td>NaN</td>\n",
              "      <td>117228</td>\n",
              "      <td>112755</td>\n",
              "      <td>155861</td>\n",
              "      <td>334799</td>\n",
              "    </tr>\n",
              "    <tr>\n",
              "      <th>mean</th>\n",
              "      <td>NaN</td>\n",
              "      <td>NaN</td>\n",
              "      <td>NaN</td>\n",
              "      <td>2016.182680</td>\n",
              "      <td>5.360196e+04</td>\n",
              "      <td>6.040425e+04</td>\n",
              "      <td>9.287483e+12</td>\n",
              "      <td>NaN</td>\n",
              "      <td>30.571379</td>\n",
              "      <td>NaN</td>\n",
              "      <td>NaN</td>\n",
              "      <td>NaN</td>\n",
              "      <td>NaN</td>\n",
              "    </tr>\n",
              "    <tr>\n",
              "      <th>std</th>\n",
              "      <td>NaN</td>\n",
              "      <td>NaN</td>\n",
              "      <td>NaN</td>\n",
              "      <td>10.882551</td>\n",
              "      <td>3.979747e+04</td>\n",
              "      <td>1.811296e+06</td>\n",
              "      <td>3.119260e+15</td>\n",
              "      <td>NaN</td>\n",
              "      <td>21.814351</td>\n",
              "      <td>NaN</td>\n",
              "      <td>NaN</td>\n",
              "      <td>NaN</td>\n",
              "      <td>NaN</td>\n",
              "    </tr>\n",
              "    <tr>\n",
              "      <th>min</th>\n",
              "      <td>NaN</td>\n",
              "      <td>NaN</td>\n",
              "      <td>NaN</td>\n",
              "      <td>0.000000</td>\n",
              "      <td>5.107000e+03</td>\n",
              "      <td>0.000000e+00</td>\n",
              "      <td>0.000000e+00</td>\n",
              "      <td>NaN</td>\n",
              "      <td>11.000000</td>\n",
              "      <td>NaN</td>\n",
              "      <td>NaN</td>\n",
              "      <td>NaN</td>\n",
              "      <td>NaN</td>\n",
              "    </tr>\n",
              "    <tr>\n",
              "      <th>25%</th>\n",
              "      <td>NaN</td>\n",
              "      <td>NaN</td>\n",
              "      <td>NaN</td>\n",
              "      <td>2014.000000</td>\n",
              "      <td>3.437000e+04</td>\n",
              "      <td>3.490000e+04</td>\n",
              "      <td>2.835200e+04</td>\n",
              "      <td>NaN</td>\n",
              "      <td>11.000000</td>\n",
              "      <td>NaN</td>\n",
              "      <td>NaN</td>\n",
              "      <td>NaN</td>\n",
              "      <td>NaN</td>\n",
              "    </tr>\n",
              "    <tr>\n",
              "      <th>50%</th>\n",
              "      <td>NaN</td>\n",
              "      <td>NaN</td>\n",
              "      <td>NaN</td>\n",
              "      <td>2017.000000</td>\n",
              "      <td>4.278600e+04</td>\n",
              "      <td>4.498000e+04</td>\n",
              "      <td>4.761400e+04</td>\n",
              "      <td>NaN</td>\n",
              "      <td>21.000000</td>\n",
              "      <td>NaN</td>\n",
              "      <td>NaN</td>\n",
              "      <td>NaN</td>\n",
              "      <td>NaN</td>\n",
              "    </tr>\n",
              "    <tr>\n",
              "      <th>75%</th>\n",
              "      <td>NaN</td>\n",
              "      <td>NaN</td>\n",
              "      <td>NaN</td>\n",
              "      <td>2019.000000</td>\n",
              "      <td>6.245600e+04</td>\n",
              "      <td>6.599000e+04</td>\n",
              "      <td>8.334900e+04</td>\n",
              "      <td>NaN</td>\n",
              "      <td>43.000000</td>\n",
              "      <td>NaN</td>\n",
              "      <td>NaN</td>\n",
              "      <td>NaN</td>\n",
              "      <td>NaN</td>\n",
              "    </tr>\n",
              "    <tr>\n",
              "      <th>max</th>\n",
              "      <td>NaN</td>\n",
              "      <td>NaN</td>\n",
              "      <td>NaN</td>\n",
              "      <td>2021.000000</td>\n",
              "      <td>2.785120e+06</td>\n",
              "      <td>1.111111e+09</td>\n",
              "      <td>1.111111e+18</td>\n",
              "      <td>NaN</td>\n",
              "      <td>99.000000</td>\n",
              "      <td>NaN</td>\n",
              "      <td>NaN</td>\n",
              "      <td>NaN</td>\n",
              "      <td>NaN</td>\n",
              "    </tr>\n",
              "  </tbody>\n",
              "</table>\n",
              "</div>"
            ],
            "text/plain": [
              "                   createdat       make   model  ...  engine  bodystyle    fuel\n",
              "count                 385856     385856  385856  ...  378915     385856  385856\n",
              "unique                351748         57     657  ...     208         10       3\n",
              "top     2020-10-06T05:54:43Z  Chevrolet    Onix  ...     1.0      Hatch    Flex\n",
              "freq                      21      63178   20467  ...  112755     155861  334799\n",
              "mean                     NaN        NaN     NaN  ...     NaN        NaN     NaN\n",
              "std                      NaN        NaN     NaN  ...     NaN        NaN     NaN\n",
              "min                      NaN        NaN     NaN  ...     NaN        NaN     NaN\n",
              "25%                      NaN        NaN     NaN  ...     NaN        NaN     NaN\n",
              "50%                      NaN        NaN     NaN  ...     NaN        NaN     NaN\n",
              "75%                      NaN        NaN     NaN  ...     NaN        NaN     NaN\n",
              "max                      NaN        NaN     NaN  ...     NaN        NaN     NaN\n",
              "\n",
              "[11 rows x 13 columns]"
            ]
          },
          "metadata": {
            "tags": []
          },
          "execution_count": 6
        }
      ]
    },
    {
      "cell_type": "markdown",
      "metadata": {
        "id": "IU4FxxlS2DEq"
      },
      "source": [
        "O preço dos carros nos anúncios (**price**) tendem a ser um pouco mais altos do que o preço listado na Fipe (**fipe_price**). Vamos entender os motivos.\n"
      ]
    },
    {
      "cell_type": "markdown",
      "metadata": {
        "id": "smXEgjV02DEr"
      },
      "source": [
        "### Tabela Fipe\r\n",
        "\r\n",
        "Segundo a própria FIPE:\r\n",
        "\r\n",
        "\r\n",
        "\r\n",
        "> 1. \"A Tabela Fipe expressa preços médios de veículos anunciados pelos vendedores, no mercado nacional, servindo apenas como um parâmetro para negociações ou avaliações. Os preços efetivamente praticados variam em função da região, conservação, cor, acessórios ou qualquer outro fator que possa influenciar as condições de oferta e procura por um veículo específico\".\r\n",
        "\r\n",
        "> 2. \"O ano do veículo refere-se ao ano do modelo e não são considerados veículos para uso profissional ou especial\".\r\n",
        "\r\n",
        "> 3. \"Os valores são expressos em R$ (reais) do mês/ano de referência.\"\r\n",
        "\r\n",
        "\r\n",
        "\r\n",
        "\r\n",
        "\r\n",
        "\r\n"
      ]
    },
    {
      "cell_type": "markdown",
      "metadata": {
        "id": "nOLmgEyo2DEs"
      },
      "source": [
        "## Análise Exploratória dos Dados\r\n",
        "\r\n",
        "Esta etapa de Análise Exporatória de Dados (EDA) é fundamental para entender a natureza dos dados. Determinaremos quais variáveis são contínuas, discretas e categóricas."
      ]
    },
    {
      "cell_type": "markdown",
      "metadata": {
        "id": "tvudCtRY2DE5"
      },
      "source": [
        "### Matriz de correlação"
      ]
    },
    {
      "cell_type": "code",
      "metadata": {
        "id": "cGswsLBVKNav"
      },
      "source": [
        "car.dropna\r\n",
        "categories = ['make', 'model', 'region', 'phonearea', 'color', 'bodystyle', 'fuel']\r\n",
        "df_encoded = car.copy(deep=True)"
      ],
      "execution_count": null,
      "outputs": []
    },
    {
      "cell_type": "code",
      "metadata": {
        "id": "itSJ82j_K4av"
      },
      "source": [
        "from sklearn import preprocessing\r\n",
        "\r\n",
        "lab_enc = preprocessing.LabelEncoder()\r\n",
        "for col in categories:\r\n",
        "        df_encoded[col] = lab_enc.fit_transform(car[col])\r\n",
        "        name_mapping = dict(zip(lab_enc.classes_, lab_enc.transform(lab_enc.classes_)))"
      ],
      "execution_count": null,
      "outputs": []
    },
    {
      "cell_type": "code",
      "metadata": {
        "colab": {
          "base_uri": "https://localhost:8080/",
          "height": 514
        },
        "id": "zUt0DTk62DE6",
        "outputId": "88e93264-eb38-4c19-b9fc-33811b2a5c54"
      },
      "source": [
        "# heatmap\n",
        "corrmat = df_encoded.corr()\n",
        "f, ax = plt.subplots(figsize=(9, 8))\n",
        "sns.heatmap(corrmat, vmax=.8, square=True, cbar=True, annot=True);"
      ],
      "execution_count": null,
      "outputs": [
        {
          "output_type": "display_data",
          "data": {
            "image/png": "[encoded data removed]",
            "text/plain": [
              "<Figure size 648x576 with 2 Axes>"
            ]
          },
          "metadata": {
            "tags": [],
            "needs_background": "light"
          }
        }
      ]
    },
    {
      "cell_type": "markdown",
      "metadata": {
        "id": "FZGsZIkB2DE7"
      },
      "source": [
        "A partir da matriz de correlação acima, podemos tirar as seguintes conclusões:\n",
        "- A variável **price** não apresenta boas correlações com nenhuma outra variável.\n",
        "- **km** também não apresenta correlações visuais significativas.\n",
        "- A correlação entre **fipe_price** e **price** não parece tão relevante no heatmap. \n",
        "- **fipe_price** possui maior correlação com **modelyear** e **bodystyle**.\n",
        "- Alta correlação entre **bodystyle**, **fipe_price** e **make**.\n",
        "- **modelyear** apresenta correlação com **phonearea** e **fuel**.\n",
        "- Óbvia correlação entre **region** e **phonearea**."
      ]
    },
    {
      "cell_type": "markdown",
      "metadata": {
        "id": "yOjTPP7OpCL4"
      },
      "source": [
        "Vamos isolar a variável **price** para conseguir entender melhor suas correlações:"
      ]
    },
    {
      "cell_type": "code",
      "metadata": {
        "colab": {
          "base_uri": "https://localhost:8080/"
        },
        "id": "N5C85Ov-iXGg",
        "outputId": "e620cae9-dad2-4828-dcee-8f2728969c81"
      },
      "source": [
        "corrmat[\"price\"].sort_values(ascending=False)"
      ],
      "execution_count": null,
      "outputs": [
        {
          "output_type": "execute_result",
          "data": {
            "text/plain": [
              "price         1.000000\n",
              "fipe_price    0.025143\n",
              "modelyear     0.005334\n",
              "bodystyle     0.004355\n",
              "phonearea     0.002816\n",
              "make          0.002321\n",
              "fuel          0.000964\n",
              "model         0.000886\n",
              "km           -0.000060\n",
              "color        -0.000215\n",
              "region       -0.002046\n",
              "Name: price, dtype: float64"
            ]
          },
          "metadata": {
            "tags": []
          },
          "execution_count": 10
        }
      ]
    },
    {
      "cell_type": "markdown",
      "metadata": {
        "id": "yUpfdYio2DEs"
      },
      "source": [
        "### Preços\n",
        "\n",
        "Existem carros sendo vendidos por até mais de 2 milhões. Nestes casos, podem ser carros raros, modificados, com determinados acessórios, entre outros motivos. Para termos uma noção compreensiva da distribuição de preços de veículos razoavelmente comuns, nos manteremos na faixa entre 0-150 mil reais. "
      ]
    },
    {
      "cell_type": "code",
      "metadata": {
        "colab": {
          "base_uri": "https://localhost:8080/",
          "height": 265
        },
        "id": "5BaKBQNj2DEt",
        "outputId": "67c896a0-470c-48bf-c973-f4aa7850d9dc"
      },
      "source": [
        "# histogram\n",
        "car[['fipe_price', 'price']].plot(kind='hist', alpha=0.7, bins=200, range=[0,1.5*10**5], figsize=(10,4));"
      ],
      "execution_count": null,
      "outputs": [
        {
          "output_type": "display_data",
          "data": {
            "image/png": "[encoded data removed]",
            "text/plain": [
              "<Figure size 720x288 with 1 Axes>"
            ]
          },
          "metadata": {
            "tags": [],
            "needs_background": "light"
          }
        }
      ]
    },
    {
      "cell_type": "markdown",
      "metadata": {
        "id": "Oc2hhwxJ2DEv"
      },
      "source": [
        "Aparentemente, existe uma boa convergência entre os dados dos anúncios e os dados da Tabela Fipe. No entanto, existe uma tendência dos preços dos anúncios de serem arredondados. Desta forma, preços de anúncios tendem por vezes a parecer valores discretos, devido à tendência comportamental de arredondar preços em múltiplos de 5 ou 10, ou em algorismos terminados em 99."
      ]
    },
    {
      "cell_type": "code",
      "metadata": {
        "colab": {
          "base_uri": "https://localhost:8080/"
        },
        "id": "fZ6Hd4oU2DEw",
        "outputId": "b38aa6b9-4cef-4af2-a1ac-db8fedf7abe5"
      },
      "source": [
        "# skewness and kurtosis\n",
        "print(\"Preços anunciados\")\n",
        "print(\"Assimetria: %f\" % car['price'].skew())\n",
        "print(\"Curtose: %f\" % car['price'].kurt())\n",
        "print(\"======\")\n",
        "print(\"Preços da Tabela Fipe\")\n",
        "print(\"Assimetria: %f\" % car['fipe_price'].skew())\n",
        "print(\"Curtose: %f\" % car['fipe_price'].kurt())"
      ],
      "execution_count": null,
      "outputs": [
        {
          "output_type": "stream",
          "text": [
            "Preços anunciados\n",
            "Assimetria: 599.943643\n",
            "Curtose: 367222.152728\n",
            "======\n",
            "Preços da Tabela Fipe\n",
            "Assimetria: 7.671094\n",
            "Curtose: 187.749246\n"
          ],
          "name": "stdout"
        }
      ]
    },
    {
      "cell_type": "code",
      "metadata": {
        "colab": {
          "base_uri": "https://localhost:8080/",
          "height": 291
        },
        "id": "g8GG4bIU2DEx",
        "outputId": "494d96cf-4d55-456a-8759-9f575708ada7"
      },
      "source": [
        "# scatter plot \n",
        "data = pd.concat([car['price'], car['fipe_price'], car['km']], axis=1)\n",
        "\n",
        "data.plot.scatter(x='fipe_price', y='price', xlim=(0,10**6), ylim=(0,10**6));\n"
      ],
      "execution_count": null,
      "outputs": [
        {
          "output_type": "display_data",
          "data": {
            "image/png": "[encoded data removed]",
            "text/plain": [
              "<Figure size 432x288 with 1 Axes>"
            ]
          },
          "metadata": {
            "tags": [],
            "needs_background": "light"
          }
        }
      ]
    },
    {
      "cell_type": "markdown",
      "metadata": {
        "id": "FHiTzkXd_rAW"
      },
      "source": [
        "### Quilometragem"
      ]
    },
    {
      "cell_type": "code",
      "metadata": {
        "colab": {
          "base_uri": "https://localhost:8080/",
          "height": 290
        },
        "id": "_ipdnJ3sUbiy",
        "outputId": "6224a0c7-6ca8-480d-a848-054f9738413e"
      },
      "source": [
        "data.plot.scatter(x='km', y='price', xlim=(0,10**6), ylim=(0,1.5*10**6));"
      ],
      "execution_count": null,
      "outputs": [
        {
          "output_type": "display_data",
          "data": {
            "image/png": "[encoded data removed]",
            "text/plain": [
              "<Figure size 432x288 with 1 Axes>"
            ]
          },
          "metadata": {
            "tags": [],
            "needs_background": "light"
          }
        }
      ]
    },
    {
      "cell_type": "code",
      "metadata": {
        "colab": {
          "base_uri": "https://localhost:8080/",
          "height": 279
        },
        "id": "qbk0_XL9_rSq",
        "outputId": "cdb8be1a-a0e2-43c7-bf1e-62a470b04f26"
      },
      "source": [
        "car[['km']].plot(kind='hist', alpha=0.7, bins=50, range=[0,3*10**5]).set_yscale('log')\r\n",
        "plt.xlabel('km');"
      ],
      "execution_count": null,
      "outputs": [
        {
          "output_type": "display_data",
          "data": {
            "image/png": "[encoded data removed]",
            "text/plain": [
              "<Figure size 432x288 with 1 Axes>"
            ]
          },
          "metadata": {
            "tags": [],
            "needs_background": "light"
          }
        }
      ]
    },
    {
      "cell_type": "markdown",
      "metadata": {
        "id": "VpAf7OFWS_-L"
      },
      "source": [
        ""
      ]
    },
    {
      "cell_type": "markdown",
      "metadata": {
        "id": "s8au5Mvg2DE2"
      },
      "source": [
        "### Região e Tipo de Carro\r\n",
        "\r\n",
        "Existem diversos fatores para que um carro seja vendido com um valor diferente ao da Tabela Fipe. Um fator importante a ser considerado é que o Brasil possui diversas regiões geográficas com características sócio-econômicas diferentes. Por exemplo, as regiões norte e sudeste possuem renda per capita bastante diferente, o que influi no preço dos veículos. Ou então, um carro potente como uma picape pode ser mais caro ou mais popular nas extensas áreas agricultáveis do Centro-Oeste, devido a sua maior utilidade nestas regiões. Vamos comparar, por exemplo, os tipos (*bodystyles*) de carro mais populares nos estados de Mato Grosso e São Paulo (figura abaixo). Neste caso, de fato, picapes são relativamente mais populares no Estado de MT do que em SP. "
      ]
    },
    {
      "cell_type": "code",
      "metadata": {
        "colab": {
          "base_uri": "https://localhost:8080/",
          "height": 350
        },
        "id": "adHEJeZj2DE3",
        "outputId": "4d67826a-3c03-47a5-deb1-45beb321c340"
      },
      "source": [
        "car_mt = car.loc[car.region=='MT']\n",
        "car_sp = car.loc[car.region=='SP']\n",
        "\n",
        "fig, ax = plt.subplots(1, 2, figsize=(17,5))\n",
        "sns.countplot(y = car_mt['bodystyle'], order=car_mt['bodystyle'].value_counts().index, ax=ax[0])\n",
        "sns.countplot(y = car_sp['bodystyle'], order=car_sp['bodystyle'].value_counts().index, ax=ax[1])\n",
        "ax[0].set_title('Tipos de Carro no Estado de MT')\n",
        "ax[1].set_title('Tipos de Carro no Estado de SP');"
      ],
      "execution_count": null,
      "outputs": [
        {
          "output_type": "display_data",
          "data": {
            "image/png": "[encoded data removed]",
            "text/plain": [
              "<Figure size 1224x360 with 2 Axes>"
            ]
          },
          "metadata": {
            "tags": [],
            "needs_background": "light"
          }
        }
      ]
    },
    {
      "cell_type": "code",
      "metadata": {
        "colab": {
          "base_uri": "https://localhost:8080/",
          "height": 392
        },
        "id": "nK1aTQ0x2DEz",
        "outputId": "c240319a-7d60-4d19-bd21-5b1a9c4666b3"
      },
      "source": [
        "#box plot price/region\n",
        "data = pd.concat([car['price'], car['region']], axis=1)\n",
        "f, ax = plt.subplots(figsize=(8, 6))\n",
        "fig = sns.boxplot(x='region', y='price', data=data)\n",
        "fig.axis(ymin=0, ymax=200000);"
      ],
      "execution_count": null,
      "outputs": [
        {
          "output_type": "display_data",
          "data": {
            "image/png": "[encoded data removed]",
            "text/plain": [
              "<Figure size 576x432 with 1 Axes>"
            ]
          },
          "metadata": {
            "tags": [],
            "needs_background": "light"
          }
        }
      ]
    },
    {
      "cell_type": "markdown",
      "metadata": {
        "id": "FrG2alVD2DE5"
      },
      "source": [
        "Outras circunstâncias geográficas podem afetar os preços dos carros. Assim, regiões litorâneas que são afetadas pelos efeitos da maresia podem ter seus carros vendidos a preços mais baixos, pois os carros enferrujam mais rapidamente. No entanto, não podemos testar hipótese com razoabilidade, já que o conjunto de dados não segrega veículos que rodaram especificamente no litoral."
      ]
    },
    {
      "cell_type": "markdown",
      "metadata": {
        "id": "lgxsw5D6Dqif"
      },
      "source": [
        "### Fabricante"
      ]
    },
    {
      "cell_type": "code",
      "metadata": {
        "colab": {
          "base_uri": "https://localhost:8080/",
          "height": 350
        },
        "id": "Y9YYfm0LDp73",
        "outputId": "c21502bf-9dae-4664-fc47-a3de4b310e43"
      },
      "source": [
        "plt.subplots(figsize=(8,5))\r\n",
        "sns.countplot(y = car['make'], order=car['make'].value_counts().nlargest(15).index).set_title('Top 15 Marcas Mais Populares');"
      ],
      "execution_count": null,
      "outputs": [
        {
          "output_type": "display_data",
          "data": {
            "image/png": "[encoded data removed]",
            "text/plain": [
              "<Figure size 576x360 with 1 Axes>"
            ]
          },
          "metadata": {
            "tags": [],
            "needs_background": "light"
          }
        }
      ]
    },
    {
      "cell_type": "markdown",
      "metadata": {
        "id": "JC9wch6RT0Zh"
      },
      "source": [
        "## Modelo"
      ]
    },
    {
      "cell_type": "code",
      "metadata": {
        "colab": {
          "base_uri": "https://localhost:8080/",
          "height": 350
        },
        "id": "uHs_VJ_IS9Rj",
        "outputId": "ebe4533e-93de-4cbb-fcc3-e79baf07ac4a"
      },
      "source": [
        "plt.subplots(figsize=(8,5))\r\n",
        "sns.countplot(y = car['model'], order=car['model'].value_counts().nlargest(15).index).set_title('Top 15 Modelos Mais Populares');"
      ],
      "execution_count": null,
      "outputs": [
        {
          "output_type": "display_data",
          "data": {
            "image/png": "[encoded data removed]",
            "text/plain": [
              "<Figure size 576x360 with 1 Axes>"
            ]
          },
          "metadata": {
            "tags": [],
            "needs_background": "light"
          }
        }
      ]
    },
    {
      "cell_type": "markdown",
      "metadata": {
        "id": "KtwFbHQaQIfV"
      },
      "source": [
        "### Motor"
      ]
    },
    {
      "cell_type": "markdown",
      "metadata": {
        "id": "KCLQg6sjQUO4"
      },
      "source": [
        "Existem muitos tipos diferentes de motor na tabela. Eles podem ser parecidos ou diferentes entre si, mas da forma como os dados estão apresentados, cada motor é uma categoria única, e cada motor é classificado individualmente ante os demais. Se considerássemos outras informações sobre o motor (como cilindradas e gasto de gasolina por km), poderíamos tirar conclusões mais gerais, e talvez mais precisas sobre o potência do motor, por exemplo. Sem dúvida, os dados poderiam ser limpos de forma que estas informações fossem incrementadas; porém, vamos trabalhar com os dados categóricos da forma que estão."
      ]
    },
    {
      "cell_type": "code",
      "metadata": {
        "colab": {
          "base_uri": "https://localhost:8080/"
        },
        "id": "BHc1EPj62DE1",
        "outputId": "60b2b586-b11f-4d23-a903-c12206b417b6"
      },
      "source": [
        "# engine\n",
        "print('Tipos diferentes de motores no dataset:', len(car['engine'].unique()))"
      ],
      "execution_count": null,
      "outputs": [
        {
          "output_type": "stream",
          "text": [
            "Tipos diferentes de motores no dataset: 209\n"
          ],
          "name": "stdout"
        }
      ]
    },
    {
      "cell_type": "code",
      "metadata": {
        "colab": {
          "base_uri": "https://localhost:8080/",
          "height": 350
        },
        "id": "UU6098DlFdIG",
        "outputId": "c46f16c8-6b4d-4d4f-9acd-51a211a1c964"
      },
      "source": [
        "plt.subplots(figsize=(8,5))\r\n",
        "sns.countplot(y = car['engine'], order=car['engine'].value_counts().nlargest(20).index).set_title('Top 15 Motores Mais Populares');"
      ],
      "execution_count": null,
      "outputs": [
        {
          "output_type": "display_data",
          "data": {
            "image/png": "[encoded data removed]",
            "text/plain": [
              "<Figure size 576x360 with 1 Axes>"
            ]
          },
          "metadata": {
            "tags": [],
            "needs_background": "light"
          }
        }
      ]
    },
    {
      "cell_type": "markdown",
      "metadata": {
        "id": "tNpTpsVWR_sG"
      },
      "source": [
        "### Ano do modelo\r\n",
        "\r\n",
        "Automóveis diminuem gradativamente de preço conforme vão ficando mais velhos, desde o presente até cerca de 1990. Carros mais antigos do que 1990, no entanto, subvertem essa tendência, e seus preços podem variar bastante. Carros dos anos 1950-60 podem chegar até a ser mais caros do que carros atuais. Podemos colocar algumas hipóteses para isso:\r\n",
        "- Carros antigos preservados valem mais por sua raridade e acabam virando objeto de colecionador.\r\n",
        "- Carros antigos adquirem grande valor emocional, que é convertido no preço.\r\n",
        "- Carros antigos podem ter passado por reformas valorizadoras (troca de motor, pintura, etc.)"
      ]
    },
    {
      "cell_type": "code",
      "metadata": {
        "colab": {
          "base_uri": "https://localhost:8080/",
          "height": 408
        },
        "id": "ji7cDiNi2DE0",
        "outputId": "e013420d-ac07-4f37-af16-e1b4cdbaa93a"
      },
      "source": [
        "#box plot price/modelyear\n",
        "data = pd.concat([car['price'], car['modelyear']], axis=1)\n",
        "f, ax = plt.subplots(figsize=(16, 6))\n",
        "fig = sns.boxplot(x='modelyear', y='price', data=data)\n",
        "fig.axis(ymin=0, ymax=300000)\n",
        "plt.xticks(rotation=90);"
      ],
      "execution_count": null,
      "outputs": [
        {
          "output_type": "display_data",
          "data": {
            "image/png": "[encoded data removed]",
            "text/plain": [
              "<Figure size 1152x432 with 1 Axes>"
            ]
          },
          "metadata": {
            "tags": [],
            "needs_background": "light"
          }
        }
      ]
    },
    {
      "cell_type": "markdown",
      "metadata": {
        "id": "lUx6GLRsSz8M"
      },
      "source": [
        "### Cor"
      ]
    },
    {
      "cell_type": "code",
      "metadata": {
        "colab": {
          "base_uri": "https://localhost:8080/",
          "height": 388
        },
        "id": "cKSc8hjoPUnN",
        "outputId": "6c9f79cc-21d9-45c3-8615-c2b15f478513"
      },
      "source": [
        "#box plot color/region\r\n",
        "f, ax = plt.subplots(figsize=(8, 6))\r\n",
        "fig = sns.boxplot(x='price', y='color', data=car)\r\n",
        "fig.axis(xmin=0, xmax=200000);"
      ],
      "execution_count": null,
      "outputs": [
        {
          "output_type": "display_data",
          "data": {
            "image/png": "[encoded data removed]",
            "text/plain": [
              "<Figure size 576x432 with 1 Axes>"
            ]
          },
          "metadata": {
            "tags": [],
            "needs_background": "light"
          }
        }
      ]
    },
    {
      "cell_type": "markdown",
      "metadata": {
        "id": "fj0dPxqU2DE9"
      },
      "source": [
        "## Preparação dos dados\n",
        "\n"
      ]
    },
    {
      "cell_type": "markdown",
      "metadata": {
        "id": "vVmN3E0t2DE-"
      },
      "source": [
        "### Ordem de input: **createdat**\n",
        "Como a Tabela Fipe é atualizada mensalmente, devemos verificar se nossos dados de preço estão organizados temporalmente ('atualizados'). Para isso, limpamos a primeira coluna **createdat**:"
      ]
    },
    {
      "cell_type": "code",
      "metadata": {
        "colab": {
          "base_uri": "https://localhost:8080/"
        },
        "id": "5uPsXZjf2DE-",
        "outputId": "f38c5f67-eec3-4c3a-9a3f-de85c39c3013"
      },
      "source": [
        "import re\n",
        "search = []    \n",
        "for values in car['createdat']:\n",
        "    search.append(re.search(r'^.{0,10}', values).group()) # regex para selecionar os 10 primeiros caracteres do string\n",
        "\n",
        "car['creation_date'] = search\n",
        "car['creation_date'].unique()"
      ],
      "execution_count": null,
      "outputs": [
        {
          "output_type": "execute_result",
          "data": {
            "text/plain": [
              "array(['2020-10-01', '2020-10-02', '2020-10-03', '2020-10-04',\n",
              "       '2020-10-05', '2020-10-06', '2020-10-07', '2020-10-08',\n",
              "       '2020-10-09', '2020-10-10', '2020-10-11', '2020-10-12',\n",
              "       '2020-10-13', '2020-10-14', '2020-10-15', '2020-10-16',\n",
              "       '2020-10-17', '2020-10-18', '2020-10-19', '2020-10-20',\n",
              "       '2020-10-21', '2020-10-22', '2020-10-23', '2020-10-24',\n",
              "       '2020-10-25', '2020-10-26', '2020-10-27', '2020-10-28',\n",
              "       '2020-10-29', '2020-10-30', '2020-10-31', '2020-11-01',\n",
              "       '2020-11-02', '2020-11-03', '2020-11-04', '2020-11-05',\n",
              "       '2020-11-06', '2020-11-07', '2020-11-08', '2020-11-09',\n",
              "       '2020-11-10', '2020-11-11', '2020-11-12', '2020-11-13',\n",
              "       '2020-11-14', '2020-11-15', '2020-11-16', '2020-11-17',\n",
              "       '2020-11-18', '2020-11-19', '2020-11-20', '2020-11-21',\n",
              "       '2020-11-22', '2020-11-23', '2020-11-24', '2020-11-25',\n",
              "       '2020-11-26', '2020-11-27', '2020-11-28', '2020-11-29',\n",
              "       '2020-11-30', '2020-12-01', '2020-12-02', '2020-12-03',\n",
              "       '2020-12-04', '2020-12-05', '2020-12-06', '2020-12-07',\n",
              "       '2020-12-08', '2020-12-09', '2020-12-10', '2020-12-11',\n",
              "       '2020-12-12', '2020-12-13', '2020-12-14', '2020-12-15',\n",
              "       '2020-12-16', '2020-12-17', '2020-12-18', '2020-12-19',\n",
              "       '2020-12-20', '2020-12-21', '2020-12-22', '2020-12-23',\n",
              "       '2020-12-24', '2020-12-25', '2020-12-26', '2020-12-27',\n",
              "       '2020-12-28', '2020-12-29', '2020-12-30', '2020-12-31'],\n",
              "      dtype=object)"
            ]
          },
          "metadata": {
            "tags": []
          },
          "execution_count": 24
        }
      ]
    },
    {
      "cell_type": "markdown",
      "metadata": {
        "id": "VZwBdnq82DE_"
      },
      "source": [
        "Os dados foram extraídos em várias datas diferentes. Seria interessante verificar se, em cada data indicada, os mesmos modelos de carro foram atualizados com valores diferentes."
      ]
    },
    {
      "cell_type": "code",
      "metadata": {
        "colab": {
          "base_uri": "https://localhost:8080/"
        },
        "id": "l-Bpge5K2DFA",
        "outputId": "459694f1-121f-4379-d769-9ee81e40ee76"
      },
      "source": [
        "search = []    \n",
        "for values in car['createdat']:\n",
        "    search.append(re.search(r'^.{0,7}', values).group()) # regex para selecionar os 7 primeiros caracteres do string\n",
        "\n",
        "car['creation_month'] = search\n",
        "car['creation_month'].unique()"
      ],
      "execution_count": null,
      "outputs": [
        {
          "output_type": "execute_result",
          "data": {
            "text/plain": [
              "array(['2020-10', '2020-11', '2020-12'], dtype=object)"
            ]
          },
          "metadata": {
            "tags": []
          },
          "execution_count": 25
        }
      ]
    },
    {
      "cell_type": "markdown",
      "metadata": {
        "id": "Dojj0Yo89rQ7"
      },
      "source": [
        "Desta forma, existe uma proporcionalidade entre os dados mensais. No entanto, os dados não são equilibrados, i.e. não possuem a mesma quantidade de dados para cada categoria. Portanto, existe uma certa assimetria 'horizontal' dos dados, mas não sabemos se isso pode atrapalhar a análise. \r\n",
        "\r\n",
        "Se analisássemos dados históricos teríamos que considerar o efeito da inflação nas variáveis. Porém, como os dados estão distribuídos ao longo de apenas três meses conseguintes, podemos considerar, em primeira instância, que a inflação dos preços não surtiu tanto efeito na distribuição dos preços.\r\n",
        "\r\n",
        "Para continuarmos nossa modelagem de dados, vamos conferir o uso de memória do dataset antigo `car` e do dataset já preparado, `df_final`."
      ]
    },
    {
      "cell_type": "markdown",
      "metadata": {
        "id": "W5EwgHC-2DFB"
      },
      "source": [
        "#### Dados nulos e infinitos"
      ]
    },
    {
      "cell_type": "code",
      "metadata": {
        "colab": {
          "base_uri": "https://localhost:8080/",
          "height": 204
        },
        "id": "GyuphVBA2DFE",
        "outputId": "e294ad28-88f2-4bbf-f211-b20235a83b12"
      },
      "source": [
        "total = car.isnull().sum().sort_values(ascending=False)\n",
        "percent = (car.isnull().sum()/car.isnull().count()).sort_values(ascending=False)\n",
        "missing_data = pd.concat([total, percent], axis=1, keys=['Total', 'Porcentagem'])\n",
        "missing_data.head(5)"
      ],
      "execution_count": null,
      "outputs": [
        {
          "output_type": "execute_result",
          "data": {
            "text/html": [
              "<div>\n",
              "<style scoped>\n",
              "    .dataframe tbody tr th:only-of-type {\n",
              "        vertical-align: middle;\n",
              "    }\n",
              "\n",
              "    .dataframe tbody tr th {\n",
              "        vertical-align: top;\n",
              "    }\n",
              "\n",
              "    .dataframe thead th {\n",
              "        text-align: right;\n",
              "    }\n",
              "</style>\n",
              "<table border=\"1\" class=\"dataframe\">\n",
              "  <thead>\n",
              "    <tr style=\"text-align: right;\">\n",
              "      <th></th>\n",
              "      <th>Total</th>\n",
              "      <th>Porcentagem</th>\n",
              "    </tr>\n",
              "  </thead>\n",
              "  <tbody>\n",
              "    <tr>\n",
              "      <th>fipe_price</th>\n",
              "      <td>22627</td>\n",
              "      <td>0.058641</td>\n",
              "    </tr>\n",
              "    <tr>\n",
              "      <th>engine</th>\n",
              "      <td>6941</td>\n",
              "      <td>0.017989</td>\n",
              "    </tr>\n",
              "    <tr>\n",
              "      <th>km</th>\n",
              "      <td>2664</td>\n",
              "      <td>0.006904</td>\n",
              "    </tr>\n",
              "    <tr>\n",
              "      <th>price</th>\n",
              "      <td>236</td>\n",
              "      <td>0.000612</td>\n",
              "    </tr>\n",
              "    <tr>\n",
              "      <th>creation_month</th>\n",
              "      <td>0</td>\n",
              "      <td>0.000000</td>\n",
              "    </tr>\n",
              "  </tbody>\n",
              "</table>\n",
              "</div>"
            ],
            "text/plain": [
              "                Total  Porcentagem\n",
              "fipe_price      22627     0.058641\n",
              "engine           6941     0.017989\n",
              "km               2664     0.006904\n",
              "price             236     0.000612\n",
              "creation_month      0     0.000000"
            ]
          },
          "metadata": {
            "tags": []
          },
          "execution_count": 26
        }
      ]
    },
    {
      "cell_type": "markdown",
      "metadata": {
        "id": "DEfCn9JD2DFF"
      },
      "source": [
        "A porcentagem de dados nulos é bem baixa. Dados nulos também ocorrem em apenas quatro variáveis (a variável **creation_month** e todas as outras variáveis fora da tabela não possuem dados nulos). Como a quantidade de dados nulos é baixa  (menor do que 0.058), podemos apagá-los. Também se apagarmos as colunas **createdat** e **creation_date**, e mantivermos a coluna **cretion_month** como única variável temporal, nossa análise será pouco afetada."
      ]
    },
    {
      "cell_type": "code",
      "metadata": {
        "colab": {
          "base_uri": "https://localhost:8080/"
        },
        "id": "tWQmAF5L2DFH",
        "outputId": "3b025499-e3ab-4085-8ac0-432c23941830"
      },
      "source": [
        "car.isnull().sum().max()"
      ],
      "execution_count": null,
      "outputs": [
        {
          "output_type": "execute_result",
          "data": {
            "text/plain": [
              "22627"
            ]
          },
          "metadata": {
            "tags": []
          },
          "execution_count": 27
        }
      ]
    },
    {
      "cell_type": "code",
      "metadata": {
        "id": "mHjzLoxz2DFI"
      },
      "source": [
        "# lidando com dados nulos\n",
        "car.dropna(axis=0, how='any')\n",
        "\n",
        "# lidando com dados infinitos\n",
        "with pd.option_context('mode.use_inf_as_null', True):\n",
        "    car = car.dropna()"
      ],
      "execution_count": null,
      "outputs": []
    },
    {
      "cell_type": "markdown",
      "metadata": {
        "id": "AVuMzSkb2DFJ"
      },
      "source": [
        "#### Outliers\n",
        "\n",
        "Também devemos nos manter atentos a outliers. Nos gráficos anteriores, precisamos limitar os eixos x e y, pois diversos veículos chegam a valores muito altos que beiram o irreal, muitas vezes devido a variáveis incomensuráveis, como o apego emocional ao carro. No entanto, para fazer nosso modelo funcionar, devemos nos apegar a fundamentos de valor mais concretos. Assim, podemos fazer uma análise univariada utilizando `StandardScaler` para estabelecer um limiar que define uma observação como um outlier."
      ]
    },
    {
      "cell_type": "code",
      "metadata": {
        "colab": {
          "base_uri": "https://localhost:8080/"
        },
        "id": "fBlZglhN2DFK",
        "outputId": "0c46fbd8-2c5e-4ef1-d4b7-015d81e1b39c"
      },
      "source": [
        "from sklearn.preprocessing import StandardScaler\n",
        "\n",
        "#standardizing data\n",
        "saleprice_scaled = StandardScaler().fit_transform(car['price'][:,np.newaxis]);\n",
        "low_range = saleprice_scaled[saleprice_scaled[:,0].argsort()][:10]\n",
        "high_range = saleprice_scaled[saleprice_scaled[:,0].argsort()][-10:]\n",
        "print('outer range (low) of the distribution:')\n",
        "print(low_range)\n",
        "print('\\nouter range (high) of the distribution:')\n",
        "print(high_range)"
      ],
      "execution_count": null,
      "outputs": [
        {
          "output_type": "stream",
          "text": [
            "outer range (low) of the distribution:\n",
            "[[-0.03199464]\n",
            " [-0.03199464]\n",
            " [-0.03199464]\n",
            " [-0.03199464]\n",
            " [-0.03199464]\n",
            " [-0.03199464]\n",
            " [-0.03199464]\n",
            " [-0.03199464]\n",
            " [-0.03199464]\n",
            " [-0.03199464]]\n",
            "\n",
            "outer range (high) of the distribution:\n",
            "[[  1.03297048]\n",
            " [  1.03297048]\n",
            " [  1.07062076]\n",
            " [  1.19970745]\n",
            " [  1.25349356]\n",
            " [  1.25349356]\n",
            " [  1.3610658 ]\n",
            " [  1.58158888]\n",
            " [ 59.73035824]\n",
            " [597.59156   ]]\n"
          ],
          "name": "stdout"
        }
      ]
    },
    {
      "cell_type": "markdown",
      "metadata": {
        "id": "8lZPYiym2DFL"
      },
      "source": [
        "A faixa superior de valores contém valores muito altos, como 59.73 e 597.59, que certamente nos trarão problemas."
      ]
    },
    {
      "cell_type": "code",
      "metadata": {
        "id": "ZZ1Dmmtw2DFL"
      },
      "source": [
        "car = car.sort_values(by='price', ascending=False).iloc[2:] # deletando os dois outliers"
      ],
      "execution_count": null,
      "outputs": []
    },
    {
      "cell_type": "code",
      "metadata": {
        "colab": {
          "base_uri": "https://localhost:8080/",
          "height": 309
        },
        "id": "4AEK2ZGV2DFM",
        "outputId": "3c30bbaa-d464-434b-939f-8c19bf95f260"
      },
      "source": [
        "car.sort_values(by='price', ascending=False).head()"
      ],
      "execution_count": null,
      "outputs": [
        {
          "output_type": "execute_result",
          "data": {
            "text/html": [
              "<div>\n",
              "<style scoped>\n",
              "    .dataframe tbody tr th:only-of-type {\n",
              "        vertical-align: middle;\n",
              "    }\n",
              "\n",
              "    .dataframe tbody tr th {\n",
              "        vertical-align: top;\n",
              "    }\n",
              "\n",
              "    .dataframe thead th {\n",
              "        text-align: right;\n",
              "    }\n",
              "</style>\n",
              "<table border=\"1\" class=\"dataframe\">\n",
              "  <thead>\n",
              "    <tr style=\"text-align: right;\">\n",
              "      <th></th>\n",
              "      <th>createdat</th>\n",
              "      <th>make</th>\n",
              "      <th>model</th>\n",
              "      <th>modelyear</th>\n",
              "      <th>fipe_price</th>\n",
              "      <th>price</th>\n",
              "      <th>km</th>\n",
              "      <th>region</th>\n",
              "      <th>phonearea</th>\n",
              "      <th>color</th>\n",
              "      <th>engine</th>\n",
              "      <th>bodystyle</th>\n",
              "      <th>fuel</th>\n",
              "      <th>creation_date</th>\n",
              "      <th>creation_month</th>\n",
              "    </tr>\n",
              "  </thead>\n",
              "  <tbody>\n",
              "    <tr>\n",
              "      <th>357098</th>\n",
              "      <td>2020-12-20T10:03:15Z</td>\n",
              "      <td>Lamborghini</td>\n",
              "      <td>Huracán</td>\n",
              "      <td>2019</td>\n",
              "      <td>2785120.0</td>\n",
              "      <td>3000000.0</td>\n",
              "      <td>6758.0</td>\n",
              "      <td>SP</td>\n",
              "      <td>15</td>\n",
              "      <td>Azul</td>\n",
              "      <td>5.2</td>\n",
              "      <td>Coupê</td>\n",
              "      <td>Gasolina</td>\n",
              "      <td>2020-12-20</td>\n",
              "      <td>2020-12</td>\n",
              "    </tr>\n",
              "    <tr>\n",
              "      <th>138756</th>\n",
              "      <td>2020-11-01T05:54:20Z</td>\n",
              "      <td>Ferrari</td>\n",
              "      <td>488 GTB</td>\n",
              "      <td>2018</td>\n",
              "      <td>2020310.0</td>\n",
              "      <td>2590000.0</td>\n",
              "      <td>755.0</td>\n",
              "      <td>SP</td>\n",
              "      <td>11</td>\n",
              "      <td>Preto</td>\n",
              "      <td>3.9</td>\n",
              "      <td>Conversível</td>\n",
              "      <td>Gasolina</td>\n",
              "      <td>2020-11-01</td>\n",
              "      <td>2020-11</td>\n",
              "    </tr>\n",
              "    <tr>\n",
              "      <th>141356</th>\n",
              "      <td>2020-11-01T08:44:00Z</td>\n",
              "      <td>Ferrari</td>\n",
              "      <td>488 GTB</td>\n",
              "      <td>2017</td>\n",
              "      <td>1958950.0</td>\n",
              "      <td>2390000.0</td>\n",
              "      <td>2987.0</td>\n",
              "      <td>SP</td>\n",
              "      <td>15</td>\n",
              "      <td>Branco</td>\n",
              "      <td>3.9</td>\n",
              "      <td>Conversível</td>\n",
              "      <td>Gasolina</td>\n",
              "      <td>2020-11-01</td>\n",
              "      <td>2020-11</td>\n",
              "    </tr>\n",
              "    <tr>\n",
              "      <th>204104</th>\n",
              "      <td>2020-11-15T10:23:25Z</td>\n",
              "      <td>Ferrari</td>\n",
              "      <td>488 GTB</td>\n",
              "      <td>2017</td>\n",
              "      <td>1958950.0</td>\n",
              "      <td>2390000.0</td>\n",
              "      <td>2987.0</td>\n",
              "      <td>SP</td>\n",
              "      <td>15</td>\n",
              "      <td>Branco</td>\n",
              "      <td>3.9</td>\n",
              "      <td>Conversível</td>\n",
              "      <td>Gasolina</td>\n",
              "      <td>2020-11-15</td>\n",
              "      <td>2020-11</td>\n",
              "    </tr>\n",
              "    <tr>\n",
              "      <th>233635</th>\n",
              "      <td>2020-11-22T12:24:01Z</td>\n",
              "      <td>Mercedes-Benz</td>\n",
              "      <td>G 63 AMG</td>\n",
              "      <td>2020</td>\n",
              "      <td>1214720.0</td>\n",
              "      <td>2290000.0</td>\n",
              "      <td>0.0</td>\n",
              "      <td>SP</td>\n",
              "      <td>11</td>\n",
              "      <td>Branco</td>\n",
              "      <td>4.0</td>\n",
              "      <td>SUV</td>\n",
              "      <td>Gasolina</td>\n",
              "      <td>2020-11-22</td>\n",
              "      <td>2020-11</td>\n",
              "    </tr>\n",
              "  </tbody>\n",
              "</table>\n",
              "</div>"
            ],
            "text/plain": [
              "                   createdat           make  ... creation_date  creation_month\n",
              "357098  2020-12-20T10:03:15Z    Lamborghini  ...    2020-12-20         2020-12\n",
              "138756  2020-11-01T05:54:20Z        Ferrari  ...    2020-11-01         2020-11\n",
              "141356  2020-11-01T08:44:00Z        Ferrari  ...    2020-11-01         2020-11\n",
              "204104  2020-11-15T10:23:25Z        Ferrari  ...    2020-11-15         2020-11\n",
              "233635  2020-11-22T12:24:01Z  Mercedes-Benz  ...    2020-11-22         2020-11\n",
              "\n",
              "[5 rows x 15 columns]"
            ]
          },
          "metadata": {
            "tags": []
          },
          "execution_count": 31
        }
      ]
    },
    {
      "cell_type": "markdown",
      "metadata": {
        "id": "erIlkD902DFM"
      },
      "source": [
        "A faixa inferior de valores é muito próxima a zero. Teoricamente, não teríamos problemas. No entanto, carros \"de graça\" podem atrapalhar a simetria do nosso modelo assim como valores nulos. Portanto, vamos considerar apenas carros acima de um determinado valor, i.e. 10 reais."
      ]
    },
    {
      "cell_type": "code",
      "metadata": {
        "colab": {
          "base_uri": "https://localhost:8080/"
        },
        "id": "7KYvEoIi2DFN",
        "outputId": "f732294f-4a60-426a-e579-dd2b8fc07f4b"
      },
      "source": [
        "car = car[car['price'] > 10]\n",
        "car.shape"
      ],
      "execution_count": null,
      "outputs": [
        {
          "output_type": "execute_result",
          "data": {
            "text/plain": [
              "(358386, 15)"
            ]
          },
          "metadata": {
            "tags": []
          },
          "execution_count": 32
        }
      ]
    },
    {
      "cell_type": "code",
      "metadata": {
        "colab": {
          "base_uri": "https://localhost:8080/",
          "height": 309
        },
        "id": "NUh1TwqE2DFO",
        "outputId": "39d63ce4-22e1-4502-e979-a53f7e997682"
      },
      "source": [
        "car.sort_values(by='price', ascending=True).head()"
      ],
      "execution_count": null,
      "outputs": [
        {
          "output_type": "execute_result",
          "data": {
            "text/html": [
              "<div>\n",
              "<style scoped>\n",
              "    .dataframe tbody tr th:only-of-type {\n",
              "        vertical-align: middle;\n",
              "    }\n",
              "\n",
              "    .dataframe tbody tr th {\n",
              "        vertical-align: top;\n",
              "    }\n",
              "\n",
              "    .dataframe thead th {\n",
              "        text-align: right;\n",
              "    }\n",
              "</style>\n",
              "<table border=\"1\" class=\"dataframe\">\n",
              "  <thead>\n",
              "    <tr style=\"text-align: right;\">\n",
              "      <th></th>\n",
              "      <th>createdat</th>\n",
              "      <th>make</th>\n",
              "      <th>model</th>\n",
              "      <th>modelyear</th>\n",
              "      <th>fipe_price</th>\n",
              "      <th>price</th>\n",
              "      <th>km</th>\n",
              "      <th>region</th>\n",
              "      <th>phonearea</th>\n",
              "      <th>color</th>\n",
              "      <th>engine</th>\n",
              "      <th>bodystyle</th>\n",
              "      <th>fuel</th>\n",
              "      <th>creation_date</th>\n",
              "      <th>creation_month</th>\n",
              "    </tr>\n",
              "  </thead>\n",
              "  <tbody>\n",
              "    <tr>\n",
              "      <th>349538</th>\n",
              "      <td>2020-12-18T12:15:57Z</td>\n",
              "      <td>Fiat</td>\n",
              "      <td>Palio</td>\n",
              "      <td>1997</td>\n",
              "      <td>7121.0</td>\n",
              "      <td>4500.0</td>\n",
              "      <td>257000.0</td>\n",
              "      <td>SP</td>\n",
              "      <td>11</td>\n",
              "      <td>Azul</td>\n",
              "      <td>1</td>\n",
              "      <td>Hatch</td>\n",
              "      <td>Gasolina</td>\n",
              "      <td>2020-12-18</td>\n",
              "      <td>2020-12</td>\n",
              "    </tr>\n",
              "    <tr>\n",
              "      <th>321129</th>\n",
              "      <td>2020-12-11T08:44:26Z</td>\n",
              "      <td>Fiat</td>\n",
              "      <td>Uno Mille</td>\n",
              "      <td>1996</td>\n",
              "      <td>6568.0</td>\n",
              "      <td>4900.0</td>\n",
              "      <td>999999.0</td>\n",
              "      <td>PR</td>\n",
              "      <td>41</td>\n",
              "      <td>Cinza</td>\n",
              "      <td>1</td>\n",
              "      <td>Hatch</td>\n",
              "      <td>Gasolina</td>\n",
              "      <td>2020-12-11</td>\n",
              "      <td>2020-12</td>\n",
              "    </tr>\n",
              "    <tr>\n",
              "      <th>95288</th>\n",
              "      <td>2020-10-22T17:46:44Z</td>\n",
              "      <td>Fiat</td>\n",
              "      <td>Uno Furgão</td>\n",
              "      <td>1998</td>\n",
              "      <td>5754.0</td>\n",
              "      <td>4990.0</td>\n",
              "      <td>100.0</td>\n",
              "      <td>SC</td>\n",
              "      <td>47</td>\n",
              "      <td>Branco</td>\n",
              "      <td>1.5</td>\n",
              "      <td>Van/Furgão</td>\n",
              "      <td>Gasolina</td>\n",
              "      <td>2020-10-22</td>\n",
              "      <td>2020-10</td>\n",
              "    </tr>\n",
              "    <tr>\n",
              "      <th>368904</th>\n",
              "      <td>2020-12-23T11:40:55Z</td>\n",
              "      <td>Hyundai</td>\n",
              "      <td>HB20S</td>\n",
              "      <td>2021</td>\n",
              "      <td>56325.0</td>\n",
              "      <td>5000.0</td>\n",
              "      <td>0.0</td>\n",
              "      <td>SP</td>\n",
              "      <td>14</td>\n",
              "      <td>Branco</td>\n",
              "      <td>1.0</td>\n",
              "      <td>Sedan</td>\n",
              "      <td>Flex</td>\n",
              "      <td>2020-12-23</td>\n",
              "      <td>2020-12</td>\n",
              "    </tr>\n",
              "    <tr>\n",
              "      <th>361877</th>\n",
              "      <td>2020-12-21T16:50:51Z</td>\n",
              "      <td>Renault</td>\n",
              "      <td>Clio</td>\n",
              "      <td>2005</td>\n",
              "      <td>9685.0</td>\n",
              "      <td>5890.0</td>\n",
              "      <td>220000.0</td>\n",
              "      <td>SP</td>\n",
              "      <td>11</td>\n",
              "      <td>Verde</td>\n",
              "      <td>1.0</td>\n",
              "      <td>Hatch</td>\n",
              "      <td>Gasolina</td>\n",
              "      <td>2020-12-21</td>\n",
              "      <td>2020-12</td>\n",
              "    </tr>\n",
              "  </tbody>\n",
              "</table>\n",
              "</div>"
            ],
            "text/plain": [
              "                   createdat     make  ... creation_date  creation_month\n",
              "349538  2020-12-18T12:15:57Z     Fiat  ...    2020-12-18         2020-12\n",
              "321129  2020-12-11T08:44:26Z     Fiat  ...    2020-12-11         2020-12\n",
              "95288   2020-10-22T17:46:44Z     Fiat  ...    2020-10-22         2020-10\n",
              "368904  2020-12-23T11:40:55Z  Hyundai  ...    2020-12-23         2020-12\n",
              "361877  2020-12-21T16:50:51Z  Renault  ...    2020-12-21         2020-12\n",
              "\n",
              "[5 rows x 15 columns]"
            ]
          },
          "metadata": {
            "tags": []
          },
          "execution_count": 33
        }
      ]
    },
    {
      "cell_type": "markdown",
      "metadata": {
        "id": "zPuspPW22DFP"
      },
      "source": [
        "Assim, os preços condizem com a realidade. Um Fiat Palio de 1997 por R$ 4500 (bem abaixo do preço da Tabela Fipe) parece legítimo."
      ]
    },
    {
      "cell_type": "markdown",
      "metadata": {
        "id": "0xSMtqT02DFQ"
      },
      "source": [
        "Além disso, vimos na análise exploratória de dados que, além de `price`, dados como **fipe_price**, **km** e **modelyear** também precisam ser limpos e ajustados. \n",
        "- **price** e **fipe_price**: consideraremos apenas preços abaixo de 1 milhão de reais.\n",
        "- **modelyear**: consideraremos apenas modelos criados após 1950. \n",
        "- **km**: consideraremos apenas quilometragens menores do que 8000000 km (um número aleatório equivalente a cerca de 20 voltas equatoriais ao redor da Terra)."
      ]
    },
    {
      "cell_type": "code",
      "metadata": {
        "colab": {
          "base_uri": "https://localhost:8080/"
        },
        "id": "MkuJQsOH2DFQ",
        "outputId": "ad432aa5-62de-4bc1-e541-863c6546752f"
      },
      "source": [
        "car = car[car['price'] < 1000000]\n",
        "car = car[car['fipe_price'] < 1000000]\n",
        "car = car[car['modelyear'] > 1949]\n",
        "car = car[car['km'] < 800000]\n",
        "car.shape"
      ],
      "execution_count": null,
      "outputs": [
        {
          "output_type": "execute_result",
          "data": {
            "text/plain": [
              "(357368, 15)"
            ]
          },
          "metadata": {
            "tags": []
          },
          "execution_count": 34
        }
      ]
    },
    {
      "cell_type": "code",
      "metadata": {
        "colab": {
          "base_uri": "https://localhost:8080/"
        },
        "id": "3cyH2UxoCybg",
        "outputId": "a1fc947c-b82f-4627-fd31-86e19ba888cb"
      },
      "source": [
        "car.info()"
      ],
      "execution_count": null,
      "outputs": [
        {
          "output_type": "stream",
          "text": [
            "<class 'pandas.core.frame.DataFrame'>\n",
            "Int64Index: 357368 entries, 127116 to 349538\n",
            "Data columns (total 15 columns):\n",
            " #   Column          Non-Null Count   Dtype  \n",
            "---  ------          --------------   -----  \n",
            " 0   createdat       357368 non-null  object \n",
            " 1   make            357368 non-null  object \n",
            " 2   model           357368 non-null  object \n",
            " 3   modelyear       357368 non-null  int64  \n",
            " 4   fipe_price      357368 non-null  float64\n",
            " 5   price           357368 non-null  float64\n",
            " 6   km              357368 non-null  float64\n",
            " 7   region          357368 non-null  object \n",
            " 8   phonearea       357368 non-null  int64  \n",
            " 9   color           357368 non-null  object \n",
            " 10  engine          357368 non-null  object \n",
            " 11  bodystyle       357368 non-null  object \n",
            " 12  fuel            357368 non-null  object \n",
            " 13  creation_date   357368 non-null  object \n",
            " 14  creation_month  357368 non-null  object \n",
            "dtypes: float64(3), int64(2), object(10)\n",
            "memory usage: 43.6+ MB\n"
          ],
          "name": "stdout"
        }
      ]
    },
    {
      "cell_type": "markdown",
      "metadata": {
        "id": "1ZdV8ifr2DFR"
      },
      "source": [
        "Variáveis como `modelyear` e `phonearea` são inicialmente percebidas como numéricas. No entanto, são variáveis categóricas."
      ]
    },
    {
      "cell_type": "code",
      "metadata": {
        "id": "7-TurcB82DFR"
      },
      "source": [
        "car['modelyear'] = car['modelyear'].astype('category')\n",
        "car['phonearea'] = car['phonearea'].astype('category')"
      ],
      "execution_count": null,
      "outputs": []
    },
    {
      "cell_type": "code",
      "metadata": {
        "id": "CqE9eG_H2DFS"
      },
      "source": [
        "from sklearn.model_selection import train_test_split\n",
        "\n",
        "train, test = train_test_split(car, test_size=0.2, random_state=42)"
      ],
      "execution_count": null,
      "outputs": []
    },
    {
      "cell_type": "markdown",
      "metadata": {
        "id": "e1ruz2vv2DFS"
      },
      "source": [
        "## Modelagem de dados\n"
      ]
    },
    {
      "cell_type": "markdown",
      "metadata": {
        "id": "AzJnPS8P2DFS"
      },
      "source": [
        "#### Variável-alvo (*target variable*)\n",
        "\n",
        "Como nosso objetivo é prever a variável-alvo **price**, vamos analisá-la a fundo:"
      ]
    },
    {
      "cell_type": "code",
      "metadata": {
        "colab": {
          "base_uri": "https://localhost:8080/",
          "height": 624
        },
        "id": "uaMYxAPT2DFT",
        "outputId": "1db05e4c-2a16-44e4-b158-1f5bd05752d5"
      },
      "source": [
        "from scipy import stats\n",
        "from scipy.stats import norm, skew\n",
        "\n",
        "sns.distplot(car['price'] , fit=norm);\n",
        "\n",
        "# Obter parâmetros da função\n",
        "(mu, sigma) = norm.fit(car['price'])\n",
        "print( '\\n mu = {:.2f} e sigma = {:.2f}\\n'.format(mu, sigma))\n",
        "\n",
        "# Plotar\n",
        "plt.legend(['Normal dist. ($\\mu=$ {:.2f} and $\\sigma=$ {:.2f} )'.format(mu, sigma)],\n",
        "            loc='best')\n",
        "plt.ylabel('Frequência')\n",
        "plt.title('Distribuição dos preços')\n",
        "\n",
        "#Get also the QQ-plot\n",
        "fig = plt.figure()\n",
        "res = stats.probplot(car['price'], plot=plt)\n",
        "plt.show()"
      ],
      "execution_count": null,
      "outputs": [
        {
          "output_type": "stream",
          "text": [
            "\n",
            " mu = 56374.48 e sigma = 41579.56\n",
            "\n"
          ],
          "name": "stdout"
        },
        {
          "output_type": "display_data",
          "data": {
            "image/png": "[encoded data removed]",
            "text/plain": [
              "<Figure size 432x288 with 1 Axes>"
            ]
          },
          "metadata": {
            "tags": [],
            "needs_background": "light"
          }
        },
        {
          "output_type": "display_data",
          "data": {
            "image/png": "[encoded data removed]",
            "text/plain": [
              "<Figure size 432x288 with 1 Axes>"
            ]
          },
          "metadata": {
            "tags": [],
            "needs_background": "light"
          }
        }
      ]
    },
    {
      "cell_type": "markdown",
      "metadata": {
        "id": "1NjDMvI_2DFT"
      },
      "source": [
        "Como observado anteriormente, temos uma forte assimetria para a esquerda. Veículos mais caros tendem a variar de preço mais acentuadamente (à direita). No entanto, para utilizarmos um modelo de regressão linear, precisamos transformar essa variável de modo a deixá-la em distribuição normal."
      ]
    },
    {
      "cell_type": "markdown",
      "metadata": {
        "id": "HM38927y2DFT"
      },
      "source": [
        "#### Transformação logarítmica\r\n",
        "\r\n",
        "Transformação logarítmica é um método que transforma cada variável x por log(x). Ao fazermos isso, reduzimos a assimetria da variável **price**, e normalizamos a sua distribuição."
      ]
    },
    {
      "cell_type": "code",
      "metadata": {
        "colab": {
          "base_uri": "https://localhost:8080/",
          "height": 624
        },
        "id": "hUGkGDZS2DFU",
        "outputId": "e59d63a2-8f36-47b1-ba73-aad547961ba2"
      },
      "source": [
        "# Log transformation\n",
        "\n",
        "car[\"price\"] = np.log1p(car[\"price\"])\n",
        "\n",
        "sns.distplot(car['price'] , fit=norm);\n",
        "\n",
        "# Obter parâmetros da função\n",
        "(mu, sigma) = norm.fit(car['price'])\n",
        "print( '\\n mu = {:.2f} e sigma = {:.2f}\\n'.format(mu, sigma))\n",
        "\n",
        "# Plotar\n",
        "plt.legend(['Distribuição normal ($\\mu=$ {:.2f} e $\\sigma=$ {:.2f} )'.format(mu, sigma)], loc='best')\n",
        "plt.ylabel('Frequência')\n",
        "plt.title('Distribuição de preços')\n",
        "\n",
        "# QQ-plot\n",
        "fig = plt.figure()\n",
        "res = stats.probplot(car['price'], plot=plt)\n",
        "plt.show()"
      ],
      "execution_count": null,
      "outputs": [
        {
          "output_type": "stream",
          "text": [
            "\n",
            " mu = 10.79 e sigma = 0.52\n",
            "\n"
          ],
          "name": "stdout"
        },
        {
          "output_type": "display_data",
          "data": {
            "image/png": "[encoded data removed]",
            "text/plain": [
              "<Figure size 432x288 with 1 Axes>"
            ]
          },
          "metadata": {
            "tags": [],
            "needs_background": "light"
          }
        },
        {
          "output_type": "display_data",
          "data": {
            "image/png": "[encoded data removed]",
            "text/plain": [
              "<Figure size 432x288 with 1 Axes>"
            ]
          },
          "metadata": {
            "tags": [],
            "needs_background": "light"
          }
        }
      ]
    },
    {
      "cell_type": "markdown",
      "metadata": {
        "id": "WlRp3AGF2DFU"
      },
      "source": [
        "Parece difícil normalizar os dados, mesmo com os outliers eliminados. A distribuição continua ligeiramente assimétrica para a direita. Isso acontece porque os carros de valores mais altos fogem bastante do padrão. Vamos continuar testando o modelo a partir dessa transformação, mas é importante destacar que, caso o modelo dê errado, este será um ponto importante para ajustarmos."
      ]
    },
    {
      "cell_type": "markdown",
      "metadata": {
        "id": "-vmIOHs-2DFU"
      },
      "source": [
        "#### Assimetria das variáveis numéricas\r\n",
        "\r\n",
        "Ainda que a variável **price** esteja corrigida agora, temos outras variáveis que permanecerm assimétricas."
      ]
    },
    {
      "cell_type": "code",
      "metadata": {
        "colab": {
          "base_uri": "https://localhost:8080/",
          "height": 142
        },
        "id": "WSe4uKtj2DFV",
        "outputId": "b17a8c6c-52d2-46fb-ef38-320afe5f1428"
      },
      "source": [
        "# avaliar dataset inteiro\n",
        "numeric_feats = car.dtypes[car.dtypes == \"float64\"].index\n",
        "\n",
        "# checar assimetria das variáveis numéricas\n",
        "skewed_feats = car[numeric_feats].apply(lambda x: skew(x.dropna())).sort_values(ascending=False)\n",
        "skewness = pd.DataFrame({'Skew' :skewed_feats})\n",
        "skewness"
      ],
      "execution_count": null,
      "outputs": [
        {
          "output_type": "execute_result",
          "data": {
            "text/html": [
              "<div>\n",
              "<style scoped>\n",
              "    .dataframe tbody tr th:only-of-type {\n",
              "        vertical-align: middle;\n",
              "    }\n",
              "\n",
              "    .dataframe tbody tr th {\n",
              "        vertical-align: top;\n",
              "    }\n",
              "\n",
              "    .dataframe thead th {\n",
              "        text-align: right;\n",
              "    }\n",
              "</style>\n",
              "<table border=\"1\" class=\"dataframe\">\n",
              "  <thead>\n",
              "    <tr style=\"text-align: right;\">\n",
              "      <th></th>\n",
              "      <th>Skew</th>\n",
              "    </tr>\n",
              "  </thead>\n",
              "  <tbody>\n",
              "    <tr>\n",
              "      <th>fipe_price</th>\n",
              "      <td>4.962508</td>\n",
              "    </tr>\n",
              "    <tr>\n",
              "      <th>km</th>\n",
              "      <td>1.854342</td>\n",
              "    </tr>\n",
              "    <tr>\n",
              "      <th>price</th>\n",
              "      <td>0.596179</td>\n",
              "    </tr>\n",
              "  </tbody>\n",
              "</table>\n",
              "</div>"
            ],
            "text/plain": [
              "                Skew\n",
              "fipe_price  4.962508\n",
              "km          1.854342\n",
              "price       0.596179"
            ]
          },
          "metadata": {
            "tags": []
          },
          "execution_count": 40
        }
      ]
    },
    {
      "cell_type": "markdown",
      "metadata": {
        "id": "jpe7PRLV2DFV"
      },
      "source": [
        "#### Transformação Box Cox de elementos altamente assimétricos\n",
        "\n",
        "Utilizamos a função do scipy boxcox1p para computar a transformação de Box Cox de $x = 1$. Isso nos permitirá eliminar a assimetria das variáveis **fipe_price** e **km**.\n",
        "\n",
        "Note que aplicar $\\lambda = 0 $ é o mesmo que aplicar a transformação logarítmica acima."
      ]
    },
    {
      "cell_type": "code",
      "metadata": {
        "colab": {
          "base_uri": "https://localhost:8080/"
        },
        "id": "Dhq1kmvV2DFW",
        "outputId": "c62563e4-f98a-4ec4-8c4a-013071feabb5"
      },
      "source": [
        "skewness = skewness[abs(skewness) > 0.75]\n",
        "print(\"There are {} skewed numerical features to Box Cox transform\".format(skewness.shape[0]))\n",
        "\n",
        "from scipy.special import boxcox1p\n",
        "skewed_features = skewness.index\n",
        "lam = 0.15\n",
        "for feat in skewed_features:\n",
        "    car[feat] = boxcox1p(car[feat], lam)"
      ],
      "execution_count": null,
      "outputs": [
        {
          "output_type": "stream",
          "text": [
            "There are 3 skewed numerical features to Box Cox transform\n"
          ],
          "name": "stdout"
        }
      ]
    },
    {
      "cell_type": "markdown",
      "metadata": {
        "id": "sPDI0NIj2DFW"
      },
      "source": [
        "#### Dummy categorical features"
      ]
    },
    {
      "cell_type": "code",
      "metadata": {
        "colab": {
          "base_uri": "https://localhost:8080/"
        },
        "id": "EfexUs6l2DFY",
        "outputId": "30c9e397-ed53-4ccd-d45f-1ef06840fde3"
      },
      "source": [
        "print('Tipos diferentes de fabricantes no dataset:', len(car['make'].unique()))\n",
        "print('Tipos diferentes de modelos no dataset:', len(car['model'].unique()))\n",
        "print('Anos diferentes no dataset:', len(car['modelyear'].unique()))\n",
        "print('Estados diferentes no dataset:', len(car['region'].unique()))\n",
        "print('Áreas telefônicas diferentes no dataset:', len(car['phonearea'].unique()))\n",
        "print('Cores diferentes no dataset:', len(car['color'].unique()))\n",
        "print('Tipos diferentes de motores no dataset:', len(car['engine'].unique()))\n",
        "print('Tipos de veículos diferentes no dataset:', len(car['bodystyle'].unique()))\n",
        "print('Tipos de combustíveis diferentes no dataset:', len(car['modelyear'].unique()))\n",
        "print('Meses diferentes em que os dados foram capturados da Tabela Fipe:', len(car['creation_month'].unique()))"
      ],
      "execution_count": null,
      "outputs": [
        {
          "output_type": "stream",
          "text": [
            "Tipos diferentes de fabricantes no dataset: 46\n",
            "Tipos diferentes de modelos no dataset: 539\n",
            "Anos diferentes no dataset: 28\n",
            "Estados diferentes no dataset: 27\n",
            "Áreas telefônicas diferentes no dataset: 65\n",
            "Cores diferentes no dataset: 18\n",
            "Tipos diferentes de motores no dataset: 52\n",
            "Tipos de veículos diferentes no dataset: 9\n",
            "Tipos de combustíveis diferentes no dataset: 28\n",
            "Meses diferentes em que os dados foram capturados da Tabela Fipe: 3\n"
          ],
          "name": "stdout"
        }
      ]
    },
    {
      "cell_type": "markdown",
      "metadata": {
        "id": "-2AVqkA82DFY"
      },
      "source": [
        "Ao restringirmos veículos de preço muito alto, diminuímos consideravelmente a quantidade de tipos diferentes de motores (de 209 tipos detectados anteriormente para 52 tipos agora). Isso indica que carros muito caros tendem a possuir motores diferenciados.\n",
        "\n",
        "Para criarmos uma matriz esparsa com base nessas variáveis categóricas, vamos reduzir a memória utilizada por estes dados. O `pandas` permite a conversão de arquivos tipo `object` para `category`, como uma transformação maquiada de `str` para `int`, o que reduz uso de memória."
      ]
    },
    {
      "cell_type": "code",
      "metadata": {
        "colab": {
          "base_uri": "https://localhost:8080/"
        },
        "id": "pW2jhRU12DFY",
        "outputId": "0623b91d-e7df-44c6-f56a-a187baf2792f"
      },
      "source": [
        "carcat = car.drop(['fipe_price', 'price', 'km', 'createdat', 'creation_date'], axis=1)\n",
        "car_cat = carcat.astype('category')\n",
        "car_cat = pd.get_dummies(car_cat)\n",
        "carcat2 = car[['fipe_price', 'price', 'km']]\n",
        "df_final = pd.concat([car_cat, carcat2], axis=1, join=\"inner\")\n",
        "df_final.shape"
      ],
      "execution_count": null,
      "outputs": [
        {
          "output_type": "execute_result",
          "data": {
            "text/plain": [
              "(357368, 793)"
            ]
          },
          "metadata": {
            "tags": []
          },
          "execution_count": 43
        }
      ]
    },
    {
      "cell_type": "code",
      "metadata": {
        "colab": {
          "base_uri": "https://localhost:8080/"
        },
        "id": "n1_WNlVM2DFZ",
        "outputId": "7604af88-4f59-411c-8302-f551562ecdd0"
      },
      "source": [
        "car.info(memory_usage='deep')"
      ],
      "execution_count": null,
      "outputs": [
        {
          "output_type": "stream",
          "text": [
            "<class 'pandas.core.frame.DataFrame'>\n",
            "Int64Index: 357368 entries, 127116 to 349538\n",
            "Data columns (total 15 columns):\n",
            " #   Column          Non-Null Count   Dtype   \n",
            "---  ------          --------------   -----   \n",
            " 0   createdat       357368 non-null  object  \n",
            " 1   make            357368 non-null  object  \n",
            " 2   model           357368 non-null  object  \n",
            " 3   modelyear       357368 non-null  category\n",
            " 4   fipe_price      357368 non-null  float64 \n",
            " 5   price           357368 non-null  float64 \n",
            " 6   km              357368 non-null  float64 \n",
            " 7   region          357368 non-null  object  \n",
            " 8   phonearea       357368 non-null  category\n",
            " 9   color           357368 non-null  object  \n",
            " 10  engine          357368 non-null  object  \n",
            " 11  bodystyle       357368 non-null  object  \n",
            " 12  fuel            357368 non-null  object  \n",
            " 13  creation_date   357368 non-null  object  \n",
            " 14  creation_month  357368 non-null  object  \n",
            "dtypes: category(2), float64(3), object(10)\n",
            "memory usage: 247.1 MB\n"
          ],
          "name": "stdout"
        }
      ]
    },
    {
      "cell_type": "code",
      "metadata": {
        "colab": {
          "base_uri": "https://localhost:8080/"
        },
        "id": "e_Pm_KMB2DFa",
        "outputId": "efa76a92-00e7-4c7c-bc0e-9e35237f3e14"
      },
      "source": [
        "df_final.info(memory_usage='deep')"
      ],
      "execution_count": null,
      "outputs": [
        {
          "output_type": "stream",
          "text": [
            "<class 'pandas.core.frame.DataFrame'>\n",
            "Int64Index: 357368 entries, 127116 to 349538\n",
            "Columns: 793 entries, make_Audi to km\n",
            "dtypes: float64(3), uint8(790)\n",
            "memory usage: 290.1 MB\n"
          ],
          "name": "stdout"
        }
      ]
    },
    {
      "cell_type": "markdown",
      "metadata": {
        "id": "H-P5963JHfAn"
      },
      "source": [
        "Ambos os datasets fazem o mesmo uso de memória, mesmo `car` possuindo 15 colunas e `df_final`, 793 colunas."
      ]
    },
    {
      "cell_type": "markdown",
      "metadata": {
        "id": "P5hjglTO2DFd"
      },
      "source": [
        "## Modelagem de dados\r\n",
        "\r\n",
        "Nós temos três variáveis numéricas contínuas (**price, fipe_price e km**) e outras 12 variáveis categóricas. Neste ponto, as variáveis já foram limpas, escaladas e encodificadas em matrizes esparsas.\r\n",
        "\r\n",
        "Além disso, iremos comparar variáveis muito diferentes entre si. O preço de um carro pode ir de zero a alguns milhões de reais, enquanto as opções de cores vão de zero até menos de duas dúzias. Por isso, precisamos escalar as variáveis (*feature scaling*) para que os algoritmos de Machine Learning funcione bem. Ainda que tenhamos normalizado as variáveis contínuas, devemos escalar também as variáveis categóricas. Para isso, usaremos `RobustScaler`.\r\n",
        "\r\n",
        "Por fim, como nosso objetivo é prever o preço dos carros, nós temos um problema de regressão. Para resolvê-lo, iremos testar os seguintes algoritmos:\r\n",
        "- Lasso\r\n",
        "- Elastic Net\r\n",
        "- Stochastic Gradient Descent\r\n",
        "- XGBoost\r\n",
        "- Light Gradient Boosting Machine\r\n"
      ]
    },
    {
      "cell_type": "code",
      "metadata": {
        "id": "s6s0nf2C8JXa"
      },
      "source": [
        "from sklearn.linear_model import ElasticNet, Lasso, SGDRegressor\r\n",
        "from sklearn.ensemble import AdaBoostRegressor\r\n",
        "from sklearn.pipeline import make_pipeline\r\n",
        "from sklearn.preprocessing import RobustScaler\r\n",
        "from sklearn.model_selection import train_test_split\r\n",
        "from sklearn.metrics import mean_squared_error, mean_absolute_error\r\n",
        "import xgboost as xgb\r\n",
        "import lightgbm as lgb"
      ],
      "execution_count": null,
      "outputs": []
    },
    {
      "cell_type": "code",
      "metadata": {
        "id": "mKA22eIJFfiG"
      },
      "source": [
        "target = df_final['price']\r\n",
        "features = df_final.drop('price', axis = 1)"
      ],
      "execution_count": null,
      "outputs": []
    },
    {
      "cell_type": "code",
      "metadata": {
        "id": "QswNxPQ9gO1n"
      },
      "source": [
        "X_train, X_test, y_train, y_test = train_test_split(features, target, test_size=0.2, random_state=42)"
      ],
      "execution_count": null,
      "outputs": []
    },
    {
      "cell_type": "code",
      "metadata": {
        "id": "_oPsVq6NVqWO"
      },
      "source": [
        "lasso = make_pipeline(RobustScaler(), Lasso(alpha=0.0005, random_state=1))\r\n",
        "ENet = make_pipeline(RobustScaler(), ElasticNet(alpha=0.0005, l1_ratio=.9, random_state=3))\r\n",
        "sgd_reg = make_pipeline(RobustScaler(), SGDRegressor(n_iter_no_change=50, penalty=None, eta0=0.1))\r\n",
        "model_xgb = make_pipeline(RobustScaler(), xgb.XGBRegressor())\r\n",
        "model_lgb = make_pipeline(RobustScaler(), lgb.LGBMRegressor(objective='regression', num_leaves=30, learning_rate=0.05,\r\n",
        "                                                            n_estimators=720, max_bin=55, bagging_fraction=0.8,\r\n",
        "                                                            bagging_freq = 5, feature_fraction = 0.2319, feature_fraction_seed=9,\r\n",
        "                                                            bagging_seed=9, min_data_in_leaf=6, min_sum_hessian_in_leaf=11))"
      ],
      "execution_count": null,
      "outputs": []
    },
    {
      "cell_type": "code",
      "metadata": {
        "colab": {
          "base_uri": "https://localhost:8080/"
        },
        "id": "Wwcfn3ISVlv6",
        "outputId": "cd1cc54c-1ef5-475f-c04f-d34dd2b2267e"
      },
      "source": [
        "lasso.fit(X_train,y_train)\r\n",
        "score = lasso.score(X_test, y_test)\r\n",
        "y_pred = lasso.predict(X_test)\r\n",
        "mse = mean_squared_error(y_test, y_pred)\r\n",
        "mae = mean_absolute_error(y_test, y_pred)\r\n",
        "print(\"Lasso score:\", score)\r\n",
        "print(\"Lasso mean squared error:\", mse)\r\n",
        "print(\"Lasso mean absolute error:\", mae)"
      ],
      "execution_count": null,
      "outputs": [
        {
          "output_type": "stream",
          "text": [
            "Lasso score: 0.9624588972316601\n",
            "Lasso mean squared error: 0.00015134923600713251\n",
            "Lasso mean absolute error: 0.008662877640093788\n"
          ],
          "name": "stdout"
        }
      ]
    },
    {
      "cell_type": "code",
      "metadata": {
        "colab": {
          "base_uri": "https://localhost:8080/"
        },
        "id": "4rhK-49Zg_0e",
        "outputId": "5835f333-628a-46c6-c698-310d03d0cd87"
      },
      "source": [
        "ENet.fit(X_train,y_train)\r\n",
        "score = ENet.score(X_test, y_test)\r\n",
        "y_pred = ENet.predict(X_test)\r\n",
        "mse = mean_squared_error(y_test, y_pred)\r\n",
        "mae = mean_absolute_error(y_test, y_pred)\r\n",
        "print(\"Elastic Net score:\", score)\r\n",
        "print(\"Elastic Net mean squared error:\", mse)\r\n",
        "print(\"Elastic Net mean absolute error:\", mae)"
      ],
      "execution_count": null,
      "outputs": [
        {
          "output_type": "stream",
          "text": [
            "Elastic Net score: 0.9625925471308323\n",
            "Elastic Net mean squared error: 0.00015081041832090228\n",
            "Elastic Net mean absolute error: 0.00864999014014921\n"
          ],
          "name": "stdout"
        }
      ]
    },
    {
      "cell_type": "code",
      "metadata": {
        "id": "R06AhEhkhT_Y",
        "colab": {
          "base_uri": "https://localhost:8080/"
        },
        "outputId": "4d7fffc4-818e-4e10-96f9-6dbc639fc999"
      },
      "source": [
        "sgd_reg.fit(X_train,y_train)\r\n",
        "score = sgd_reg.score(X_test, y_test)\r\n",
        "y_pred = sgd_reg.predict(X_test)\r\n",
        "mse = mean_squared_error(y_test, y_pred)\r\n",
        "mae = mean_absolute_error(y_test, y_pred)\r\n",
        "print(\"Stochastic Gradient Descent score:\", score)\r\n",
        "print(\"Stochastic Gradient Descent mean squared error:\", mse)\r\n",
        "print(\"Stochastic Gradient Descent mean absolute error:\", mae)"
      ],
      "execution_count": null,
      "outputs": [
        {
          "output_type": "stream",
          "text": [
            "Stochastic Gradient Descent score: 0.9714195513325304\n",
            "Stochastic Gradient Descent mean squared error: 0.00011522381474128117\n",
            "Stochastic Gradient Descent mean absolute error: 0.007572881060974135\n"
          ],
          "name": "stdout"
        }
      ]
    },
    {
      "cell_type": "code",
      "metadata": {
        "id": "y-m84T-Hgslc",
        "colab": {
          "base_uri": "https://localhost:8080/"
        },
        "outputId": "3499ec98-4d64-436c-a6ca-7769769aefba"
      },
      "source": [
        "model_xgb.fit(X_train,y_train)\r\n",
        "score = model_xgb.score(X_test, y_test)\r\n",
        "y_pred = model_xgb.predict(X_test)\r\n",
        "mse = mean_squared_error(y_test, y_pred)\r\n",
        "mae = mean_absolute_error(y_test, y_pred)\r\n",
        "print(\"XGBoost score:\", score)\r\n",
        "print(\"XGBoost mean squared error:\", mse)\r\n",
        "print(\"XGBoost mean absolute error:\", mae)"
      ],
      "execution_count": null,
      "outputs": [
        {
          "output_type": "stream",
          "text": [
            "[23:58:14] WARNING: /workspace/src/objective/regression_obj.cu:152: reg:linear is now deprecated in favor of reg:squarederror.\n",
            "XGBoost score: 0.9738620384909562\n",
            "XGBoost mean squared error: 0.00010537677940867074\n",
            "XGBoost mean absolute error: 0.007151854644000205\n"
          ],
          "name": "stdout"
        }
      ]
    },
    {
      "cell_type": "code",
      "metadata": {
        "id": "k4LzJ7x7hpWr",
        "colab": {
          "base_uri": "https://localhost:8080/"
        },
        "outputId": "63466a99-6969-47ac-f339-c4944603a0ba"
      },
      "source": [
        "model_lgb.fit(X_train,y_train)\r\n",
        "score = model_lgb.score(X_test, y_test)\r\n",
        "y_pred = model_lgb.predict(X_test)\r\n",
        "mse = mean_squared_error(y_test, y_pred)\r\n",
        "mae = mean_absolute_error(y_test, y_pred)\r\n",
        "print(\"Light GBM score:\", score)\r\n",
        "print(\"Light GBM mean squared error:\", mse)\r\n",
        "print(\"Light GBM mean absolute error:\", mae)"
      ],
      "execution_count": null,
      "outputs": [
        {
          "output_type": "stream",
          "text": [
            "Light GBM score: 0.9748341935750116\n",
            "Light GBM mean squared error: 0.00010145747713989736\n",
            "Light GBM mean absolute error: 0.007018047939720742\n"
          ],
          "name": "stdout"
        }
      ]
    },
    {
      "cell_type": "markdown",
      "metadata": {
        "id": "0axtvrP5sm2L"
      },
      "source": [
        "Com isso, concluímos nossa análise preditiva. \r\n",
        "\r\n",
        "Vale destacar que este modelo preditivo é válido apenas para veículos abaixo de 1 milhão de reais. Acima disso, modelos de Machine Learning falham. Talvez, na prática, carros que valham mais de 1 milhão de reais mereçam atenção redobrada devido às suas características estatísticas assimétricas.\r\n",
        "\r\n",
        "Também é importante destacar que este algoritmo não maximiza o lucro do vendedor, ou minimiza o custo do comprador do carro. O algoritmo busca pelo meio termo entre estes extremos, e otimiza por um preço \"justo\" de mercado. Caso haja interesse em explorar estes invólucros máximo e mínimo, outros modelos matemático devem ser aplicados.\r\n",
        "\r\n",
        "Outras técnicas também poderiam ter sido exploradas em nosso modelo, como validação cruzada (*cross validation*) e regressão em paineis empilhados (*stacked regression*). No entanto, estas técnicas não foram implementadas porque o conjunto de dados é muito grande e excede a quantidade de memória RAM disponível. Para perfazer essas técnicas nestas condições, poderíamos executar este script na Nuvem (AWS, GCP, etc.) utilizando Apache Spark. Mas ficará por aqui o exercício!\r\n",
        "\r\n",
        "Muito obrigado.\r\n",
        "\r\n"
      ]
    }
  ]
}