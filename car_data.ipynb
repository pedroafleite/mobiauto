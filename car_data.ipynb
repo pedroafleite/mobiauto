{
  "nbformat": 4,
  "nbformat_minor": 0,
  "metadata": {
    "kernelspec": {
      "display_name": "Python 3",
      "language": "python",
      "name": "python3"
    },
    "language_info": {
      "codemirror_mode": {
        "name": "ipython",
        "version": 3
      },
      "file_extension": ".py",
      "mimetype": "text/x-python",
      "name": "python",
      "nbconvert_exporter": "python",
      "pygments_lexer": "ipython3",
      "version": "3.8.3"
    },
    "colab": {
      "name": "car_data.ipynb",
      "provenance": [],
      "collapsed_sections": [],
      "include_colab_link": true
    }
  },
  "cells": [
    {
      "cell_type": "markdown",
      "metadata": {
        "id": "view-in-github",
        "colab_type": "text"
      },
      "source": [
        "<a href=\"https://colab.research.google.com/github/pedroafleite/mobiauto/blob/main/car_data.ipynb\" target=\"_parent\"><img src=\"https://colab.research.google.com/assets/colab-badge.svg\" alt=\"Open In Colab\"/></a>"
      ]
    },
    {
      "cell_type": "markdown",
      "metadata": {
        "id": "loCtHAz02DEX"
      },
      "source": [
        "# Mobiauto: Análise de Dados e Predição\n",
        "\n",
        "\n",
        "https://smolski.github.io/livroavancado/regressao-com-dados-em-painel.html\n",
        "\n",
        "https://www.kaggle.com/serigne/stacked-regressions-top-4-on-leaderboard\n",
        "\n",
        "https://www.kaggle.com/pmarcelino/comprehensive-data-exploration-with-python"
      ]
    },
    {
      "cell_type": "code",
      "metadata": {
        "colab": {
          "base_uri": "https://localhost:8080/"
        },
        "id": "Ja55VPSa2DEm",
        "outputId": "649097ef-dd6d-4874-fb0e-9f750ee3f37d"
      },
      "source": [
        "import numpy as np\n",
        "import pandas as pd\n",
        "import matplotlib.pyplot as plt\n",
        "%matplotlib inline\n",
        "import seaborn as sns\n",
        "\n",
        "import warnings\n",
        "def ignore_warn(*args, **kwargs):\n",
        "    pass\n",
        "warnings.warn = ignore_warn # ignorar alertas irritantes do jupyter notebook\n",
        "\n",
        "from google.colab import drive\n",
        "drive.mount('/content/drive')"
      ],
      "execution_count": 2,
      "outputs": [
        {
          "output_type": "stream",
          "text": [
            "Drive already mounted at /content/drive; to attempt to forcibly remount, call drive.mount(\"/content/drive\", force_remount=True).\n"
          ],
          "name": "stdout"
        }
      ]
    },
    {
      "cell_type": "markdown",
      "metadata": {
        "id": "qwXa27gTSHrT"
      },
      "source": [
        "## Descrição dos dados"
      ]
    },
    {
      "cell_type": "code",
      "metadata": {
        "scrolled": true,
        "colab": {
          "base_uri": "https://localhost:8080/",
          "height": 204
        },
        "id": "GwH9FRIO2DEo",
        "outputId": "d08e2b36-fa4a-421c-c4fa-6f9dee063c6c"
      },
      "source": [
        "car = pd.read_csv('/content/drive/MyDrive/Colab Notebooks/car_data/car_data.csv')\n",
        "car.head(5)"
      ],
      "execution_count": 3,
      "outputs": [
        {
          "output_type": "execute_result",
          "data": {
            "text/html": [
              "<div>\n",
              "<style scoped>\n",
              "    .dataframe tbody tr th:only-of-type {\n",
              "        vertical-align: middle;\n",
              "    }\n",
              "\n",
              "    .dataframe tbody tr th {\n",
              "        vertical-align: top;\n",
              "    }\n",
              "\n",
              "    .dataframe thead th {\n",
              "        text-align: right;\n",
              "    }\n",
              "</style>\n",
              "<table border=\"1\" class=\"dataframe\">\n",
              "  <thead>\n",
              "    <tr style=\"text-align: right;\">\n",
              "      <th></th>\n",
              "      <th>createdat</th>\n",
              "      <th>make</th>\n",
              "      <th>model</th>\n",
              "      <th>modelyear</th>\n",
              "      <th>fipe_price</th>\n",
              "      <th>price</th>\n",
              "      <th>km</th>\n",
              "      <th>region</th>\n",
              "      <th>phonearea</th>\n",
              "      <th>color</th>\n",
              "      <th>engine</th>\n",
              "      <th>bodystyle</th>\n",
              "      <th>fuel</th>\n",
              "    </tr>\n",
              "  </thead>\n",
              "  <tbody>\n",
              "    <tr>\n",
              "      <th>0</th>\n",
              "      <td>2020-10-01T00:04:06Z</td>\n",
              "      <td>Ford</td>\n",
              "      <td>Ka</td>\n",
              "      <td>2019</td>\n",
              "      <td>47482.0</td>\n",
              "      <td>49900.0</td>\n",
              "      <td>25241.0</td>\n",
              "      <td>SP</td>\n",
              "      <td>11</td>\n",
              "      <td>Cinza</td>\n",
              "      <td>1.5</td>\n",
              "      <td>Hatch</td>\n",
              "      <td>Flex</td>\n",
              "    </tr>\n",
              "    <tr>\n",
              "      <th>1</th>\n",
              "      <td>2020-10-01T00:44:06Z</td>\n",
              "      <td>Hyundai</td>\n",
              "      <td>ix35</td>\n",
              "      <td>2019</td>\n",
              "      <td>86978.0</td>\n",
              "      <td>89900.0</td>\n",
              "      <td>23000.0</td>\n",
              "      <td>RJ</td>\n",
              "      <td>21</td>\n",
              "      <td>Branco</td>\n",
              "      <td>2.0</td>\n",
              "      <td>SUV</td>\n",
              "      <td>Flex</td>\n",
              "    </tr>\n",
              "    <tr>\n",
              "      <th>2</th>\n",
              "      <td>2020-10-01T01:05:18Z</td>\n",
              "      <td>Volkswagen</td>\n",
              "      <td>Saveiro</td>\n",
              "      <td>2014</td>\n",
              "      <td>32554.0</td>\n",
              "      <td>36900.0</td>\n",
              "      <td>59650.0</td>\n",
              "      <td>PR</td>\n",
              "      <td>41</td>\n",
              "      <td>Branco</td>\n",
              "      <td>1.6</td>\n",
              "      <td>Picapes</td>\n",
              "      <td>Flex</td>\n",
              "    </tr>\n",
              "    <tr>\n",
              "      <th>3</th>\n",
              "      <td>2020-10-01T01:05:41Z</td>\n",
              "      <td>Chevrolet</td>\n",
              "      <td>Prisma</td>\n",
              "      <td>2013</td>\n",
              "      <td>31612.0</td>\n",
              "      <td>31900.0</td>\n",
              "      <td>123570.0</td>\n",
              "      <td>PR</td>\n",
              "      <td>41</td>\n",
              "      <td>Branco</td>\n",
              "      <td>1.0</td>\n",
              "      <td>Sedan</td>\n",
              "      <td>Flex</td>\n",
              "    </tr>\n",
              "    <tr>\n",
              "      <th>4</th>\n",
              "      <td>2020-10-01T01:08:43Z</td>\n",
              "      <td>Fiat</td>\n",
              "      <td>Uno</td>\n",
              "      <td>2015</td>\n",
              "      <td>28313.0</td>\n",
              "      <td>29890.0</td>\n",
              "      <td>63111.0</td>\n",
              "      <td>RJ</td>\n",
              "      <td>21</td>\n",
              "      <td>Branco</td>\n",
              "      <td>1.0</td>\n",
              "      <td>Hatch</td>\n",
              "      <td>Flex</td>\n",
              "    </tr>\n",
              "  </tbody>\n",
              "</table>\n",
              "</div>"
            ],
            "text/plain": [
              "              createdat        make    model  ...  engine  bodystyle  fuel\n",
              "0  2020-10-01T00:04:06Z        Ford       Ka  ...     1.5      Hatch  Flex\n",
              "1  2020-10-01T00:44:06Z     Hyundai     ix35  ...     2.0        SUV  Flex\n",
              "2  2020-10-01T01:05:18Z  Volkswagen  Saveiro  ...     1.6    Picapes  Flex\n",
              "3  2020-10-01T01:05:41Z   Chevrolet   Prisma  ...     1.0      Sedan  Flex\n",
              "4  2020-10-01T01:08:43Z        Fiat      Uno  ...     1.0      Hatch  Flex\n",
              "\n",
              "[5 rows x 13 columns]"
            ]
          },
          "metadata": {
            "tags": []
          },
          "execution_count": 3
        }
      ]
    },
    {
      "cell_type": "code",
      "metadata": {
        "colab": {
          "base_uri": "https://localhost:8080/"
        },
        "id": "GKigBsXtJAXZ",
        "outputId": "fac13fae-dca3-4282-9b20-1474d1e5b66c"
      },
      "source": [
        "car.shape # lines, columns"
      ],
      "execution_count": 4,
      "outputs": [
        {
          "output_type": "execute_result",
          "data": {
            "text/plain": [
              "(385856, 13)"
            ]
          },
          "metadata": {
            "tags": []
          },
          "execution_count": 4
        }
      ]
    },
    {
      "cell_type": "code",
      "metadata": {
        "colab": {
          "base_uri": "https://localhost:8080/"
        },
        "id": "atyR0CdEJKxp",
        "outputId": "04602f81-f3a9-4433-e7d6-93778f43d451"
      },
      "source": [
        "car.info()"
      ],
      "execution_count": 5,
      "outputs": [
        {
          "output_type": "stream",
          "text": [
            "<class 'pandas.core.frame.DataFrame'>\n",
            "RangeIndex: 385856 entries, 0 to 385855\n",
            "Data columns (total 13 columns):\n",
            " #   Column      Non-Null Count   Dtype  \n",
            "---  ------      --------------   -----  \n",
            " 0   createdat   385856 non-null  object \n",
            " 1   make        385856 non-null  object \n",
            " 2   model       385856 non-null  object \n",
            " 3   modelyear   385856 non-null  int64  \n",
            " 4   fipe_price  363229 non-null  float64\n",
            " 5   price       385620 non-null  float64\n",
            " 6   km          383192 non-null  float64\n",
            " 7   region      385856 non-null  object \n",
            " 8   phonearea   385856 non-null  int64  \n",
            " 9   color       385856 non-null  object \n",
            " 10  engine      378915 non-null  object \n",
            " 11  bodystyle   385856 non-null  object \n",
            " 12  fuel        385856 non-null  object \n",
            "dtypes: float64(3), int64(2), object(8)\n",
            "memory usage: 38.3+ MB\n"
          ],
          "name": "stdout"
        }
      ]
    },
    {
      "cell_type": "code",
      "metadata": {
        "colab": {
          "base_uri": "https://localhost:8080/"
        },
        "id": "rYQdAvcUJRWp",
        "outputId": "ddded476-daeb-4f85-c951-f715e8ab1192"
      },
      "source": [
        "car.isna().sum()"
      ],
      "execution_count": 6,
      "outputs": [
        {
          "output_type": "execute_result",
          "data": {
            "text/plain": [
              "createdat         0\n",
              "make              0\n",
              "model             0\n",
              "modelyear         0\n",
              "fipe_price    22627\n",
              "price           236\n",
              "km             2664\n",
              "region            0\n",
              "phonearea         0\n",
              "color             0\n",
              "engine         6941\n",
              "bodystyle         0\n",
              "fuel              0\n",
              "dtype: int64"
            ]
          },
          "metadata": {
            "tags": []
          },
          "execution_count": 6
        }
      ]
    },
    {
      "cell_type": "code",
      "metadata": {
        "colab": {
          "base_uri": "https://localhost:8080/",
          "height": 390
        },
        "id": "BLO_wWi5Ja-z",
        "outputId": "a0b87714-435b-4077-be1f-2558f4e21dff"
      },
      "source": [
        "car.describe(include=\"all\")"
      ],
      "execution_count": 7,
      "outputs": [
        {
          "output_type": "execute_result",
          "data": {
            "text/html": [
              "<div>\n",
              "<style scoped>\n",
              "    .dataframe tbody tr th:only-of-type {\n",
              "        vertical-align: middle;\n",
              "    }\n",
              "\n",
              "    .dataframe tbody tr th {\n",
              "        vertical-align: top;\n",
              "    }\n",
              "\n",
              "    .dataframe thead th {\n",
              "        text-align: right;\n",
              "    }\n",
              "</style>\n",
              "<table border=\"1\" class=\"dataframe\">\n",
              "  <thead>\n",
              "    <tr style=\"text-align: right;\">\n",
              "      <th></th>\n",
              "      <th>createdat</th>\n",
              "      <th>make</th>\n",
              "      <th>model</th>\n",
              "      <th>modelyear</th>\n",
              "      <th>fipe_price</th>\n",
              "      <th>price</th>\n",
              "      <th>km</th>\n",
              "      <th>region</th>\n",
              "      <th>phonearea</th>\n",
              "      <th>color</th>\n",
              "      <th>engine</th>\n",
              "      <th>bodystyle</th>\n",
              "      <th>fuel</th>\n",
              "    </tr>\n",
              "  </thead>\n",
              "  <tbody>\n",
              "    <tr>\n",
              "      <th>count</th>\n",
              "      <td>385856</td>\n",
              "      <td>385856</td>\n",
              "      <td>385856</td>\n",
              "      <td>385856.000000</td>\n",
              "      <td>3.632290e+05</td>\n",
              "      <td>3.856200e+05</td>\n",
              "      <td>3.831920e+05</td>\n",
              "      <td>385856</td>\n",
              "      <td>385856.000000</td>\n",
              "      <td>385856</td>\n",
              "      <td>378915</td>\n",
              "      <td>385856</td>\n",
              "      <td>385856</td>\n",
              "    </tr>\n",
              "    <tr>\n",
              "      <th>unique</th>\n",
              "      <td>351748</td>\n",
              "      <td>57</td>\n",
              "      <td>657</td>\n",
              "      <td>NaN</td>\n",
              "      <td>NaN</td>\n",
              "      <td>NaN</td>\n",
              "      <td>NaN</td>\n",
              "      <td>27</td>\n",
              "      <td>NaN</td>\n",
              "      <td>18</td>\n",
              "      <td>208</td>\n",
              "      <td>10</td>\n",
              "      <td>3</td>\n",
              "    </tr>\n",
              "    <tr>\n",
              "      <th>top</th>\n",
              "      <td>2020-10-06T05:54:43Z</td>\n",
              "      <td>Chevrolet</td>\n",
              "      <td>Onix</td>\n",
              "      <td>NaN</td>\n",
              "      <td>NaN</td>\n",
              "      <td>NaN</td>\n",
              "      <td>NaN</td>\n",
              "      <td>SP</td>\n",
              "      <td>NaN</td>\n",
              "      <td>Branco</td>\n",
              "      <td>1.0</td>\n",
              "      <td>Hatch</td>\n",
              "      <td>Flex</td>\n",
              "    </tr>\n",
              "    <tr>\n",
              "      <th>freq</th>\n",
              "      <td>21</td>\n",
              "      <td>63178</td>\n",
              "      <td>20467</td>\n",
              "      <td>NaN</td>\n",
              "      <td>NaN</td>\n",
              "      <td>NaN</td>\n",
              "      <td>NaN</td>\n",
              "      <td>169524</td>\n",
              "      <td>NaN</td>\n",
              "      <td>117228</td>\n",
              "      <td>112755</td>\n",
              "      <td>155861</td>\n",
              "      <td>334799</td>\n",
              "    </tr>\n",
              "    <tr>\n",
              "      <th>mean</th>\n",
              "      <td>NaN</td>\n",
              "      <td>NaN</td>\n",
              "      <td>NaN</td>\n",
              "      <td>2016.182680</td>\n",
              "      <td>5.360196e+04</td>\n",
              "      <td>6.040425e+04</td>\n",
              "      <td>9.287483e+12</td>\n",
              "      <td>NaN</td>\n",
              "      <td>30.571379</td>\n",
              "      <td>NaN</td>\n",
              "      <td>NaN</td>\n",
              "      <td>NaN</td>\n",
              "      <td>NaN</td>\n",
              "    </tr>\n",
              "    <tr>\n",
              "      <th>std</th>\n",
              "      <td>NaN</td>\n",
              "      <td>NaN</td>\n",
              "      <td>NaN</td>\n",
              "      <td>10.882551</td>\n",
              "      <td>3.979747e+04</td>\n",
              "      <td>1.811296e+06</td>\n",
              "      <td>3.119260e+15</td>\n",
              "      <td>NaN</td>\n",
              "      <td>21.814351</td>\n",
              "      <td>NaN</td>\n",
              "      <td>NaN</td>\n",
              "      <td>NaN</td>\n",
              "      <td>NaN</td>\n",
              "    </tr>\n",
              "    <tr>\n",
              "      <th>min</th>\n",
              "      <td>NaN</td>\n",
              "      <td>NaN</td>\n",
              "      <td>NaN</td>\n",
              "      <td>0.000000</td>\n",
              "      <td>5.107000e+03</td>\n",
              "      <td>0.000000e+00</td>\n",
              "      <td>0.000000e+00</td>\n",
              "      <td>NaN</td>\n",
              "      <td>11.000000</td>\n",
              "      <td>NaN</td>\n",
              "      <td>NaN</td>\n",
              "      <td>NaN</td>\n",
              "      <td>NaN</td>\n",
              "    </tr>\n",
              "    <tr>\n",
              "      <th>25%</th>\n",
              "      <td>NaN</td>\n",
              "      <td>NaN</td>\n",
              "      <td>NaN</td>\n",
              "      <td>2014.000000</td>\n",
              "      <td>3.437000e+04</td>\n",
              "      <td>3.490000e+04</td>\n",
              "      <td>2.835200e+04</td>\n",
              "      <td>NaN</td>\n",
              "      <td>11.000000</td>\n",
              "      <td>NaN</td>\n",
              "      <td>NaN</td>\n",
              "      <td>NaN</td>\n",
              "      <td>NaN</td>\n",
              "    </tr>\n",
              "    <tr>\n",
              "      <th>50%</th>\n",
              "      <td>NaN</td>\n",
              "      <td>NaN</td>\n",
              "      <td>NaN</td>\n",
              "      <td>2017.000000</td>\n",
              "      <td>4.278600e+04</td>\n",
              "      <td>4.498000e+04</td>\n",
              "      <td>4.761400e+04</td>\n",
              "      <td>NaN</td>\n",
              "      <td>21.000000</td>\n",
              "      <td>NaN</td>\n",
              "      <td>NaN</td>\n",
              "      <td>NaN</td>\n",
              "      <td>NaN</td>\n",
              "    </tr>\n",
              "    <tr>\n",
              "      <th>75%</th>\n",
              "      <td>NaN</td>\n",
              "      <td>NaN</td>\n",
              "      <td>NaN</td>\n",
              "      <td>2019.000000</td>\n",
              "      <td>6.245600e+04</td>\n",
              "      <td>6.599000e+04</td>\n",
              "      <td>8.334900e+04</td>\n",
              "      <td>NaN</td>\n",
              "      <td>43.000000</td>\n",
              "      <td>NaN</td>\n",
              "      <td>NaN</td>\n",
              "      <td>NaN</td>\n",
              "      <td>NaN</td>\n",
              "    </tr>\n",
              "    <tr>\n",
              "      <th>max</th>\n",
              "      <td>NaN</td>\n",
              "      <td>NaN</td>\n",
              "      <td>NaN</td>\n",
              "      <td>2021.000000</td>\n",
              "      <td>2.785120e+06</td>\n",
              "      <td>1.111111e+09</td>\n",
              "      <td>1.111111e+18</td>\n",
              "      <td>NaN</td>\n",
              "      <td>99.000000</td>\n",
              "      <td>NaN</td>\n",
              "      <td>NaN</td>\n",
              "      <td>NaN</td>\n",
              "      <td>NaN</td>\n",
              "    </tr>\n",
              "  </tbody>\n",
              "</table>\n",
              "</div>"
            ],
            "text/plain": [
              "                   createdat       make   model  ...  engine  bodystyle    fuel\n",
              "count                 385856     385856  385856  ...  378915     385856  385856\n",
              "unique                351748         57     657  ...     208         10       3\n",
              "top     2020-10-06T05:54:43Z  Chevrolet    Onix  ...     1.0      Hatch    Flex\n",
              "freq                      21      63178   20467  ...  112755     155861  334799\n",
              "mean                     NaN        NaN     NaN  ...     NaN        NaN     NaN\n",
              "std                      NaN        NaN     NaN  ...     NaN        NaN     NaN\n",
              "min                      NaN        NaN     NaN  ...     NaN        NaN     NaN\n",
              "25%                      NaN        NaN     NaN  ...     NaN        NaN     NaN\n",
              "50%                      NaN        NaN     NaN  ...     NaN        NaN     NaN\n",
              "75%                      NaN        NaN     NaN  ...     NaN        NaN     NaN\n",
              "max                      NaN        NaN     NaN  ...     NaN        NaN     NaN\n",
              "\n",
              "[11 rows x 13 columns]"
            ]
          },
          "metadata": {
            "tags": []
          },
          "execution_count": 7
        }
      ]
    },
    {
      "cell_type": "markdown",
      "metadata": {
        "id": "IU4FxxlS2DEq"
      },
      "source": [
        "O preço dos carros tendem a ser um pouco mais altos do que o preço listado na Fipe. Vamos entender os motivos.\n"
      ]
    },
    {
      "cell_type": "markdown",
      "metadata": {
        "id": "smXEgjV02DEr"
      },
      "source": [
        "### Tabela Fipe"
      ]
    },
    {
      "cell_type": "markdown",
      "metadata": {
        "id": "nOLmgEyo2DEs"
      },
      "source": [
        "## Análise Exploratória dos Dados"
      ]
    },
    {
      "cell_type": "markdown",
      "metadata": {
        "id": "tvudCtRY2DE5"
      },
      "source": [
        "### Matriz de correlação"
      ]
    },
    {
      "cell_type": "code",
      "metadata": {
        "id": "cGswsLBVKNav"
      },
      "source": [
        "car.dropna\r\n",
        "categories = ['make', 'model', 'region', 'phonearea', 'color', 'bodystyle', 'fuel']\r\n",
        "df_encoded = car.copy(deep=True)"
      ],
      "execution_count": 8,
      "outputs": []
    },
    {
      "cell_type": "code",
      "metadata": {
        "id": "itSJ82j_K4av"
      },
      "source": [
        "from sklearn import preprocessing\r\n",
        "\r\n",
        "lab_enc = preprocessing.LabelEncoder()\r\n",
        "for col in categories:\r\n",
        "        df_encoded[col] = lab_enc.fit_transform(car[col])\r\n",
        "        name_mapping = dict(zip(lab_enc.classes_, lab_enc.transform(lab_enc.classes_)))"
      ],
      "execution_count": 9,
      "outputs": []
    },
    {
      "cell_type": "code",
      "metadata": {
        "colab": {
          "base_uri": "https://localhost:8080/",
          "height": 514
        },
        "id": "zUt0DTk62DE6",
        "outputId": "b4262f17-05e8-4686-cda3-e671d3898e78"
      },
      "source": [
        "# correlation matrix (heatmap)\n",
        "corrmat = df_encoded.corr()\n",
        "f, ax = plt.subplots(figsize=(9, 8))\n",
        "sns.heatmap(corrmat, vmax=.8, square=True, cbar=True, annot=True);"
      ],
      "execution_count": 10,
      "outputs": [
        {
          "output_type": "display_data",
          "data": {
            "image/png": "[encoded data removed]",
            "text/plain": [
              "<Figure size 648x576 with 2 Axes>"
            ]
          },
          "metadata": {
            "tags": [],
            "needs_background": "light"
          }
        }
      ]
    },
    {
      "cell_type": "markdown",
      "metadata": {
        "id": "FZGsZIkB2DE7"
      },
      "source": [
        "A partir da matriz de correlação acima, podemos tirar as seguintes conclusões:\n",
        "- A variável **price** não apresenta boas correlações com nenhuma outra variável.\n",
        "- **km** também não apresenta correlações significativas.\n",
        "- A correlação entre **fipe_price** e **price** não parece tão relevante no heatmap. \n",
        "- **fipe_price** possui maior correlação com **modelyear** e **bodystyle**.\n",
        "- Alta correlação entre **bodystyle**, **fipe_price** e **make**.\n",
        "- **modelyear** apresenta correlação com **phonearea** e **fuel**.\n",
        "- Óbvia correlação entre **region** e **phonearea**."
      ]
    },
    {
      "cell_type": "markdown",
      "metadata": {
        "id": "yUpfdYio2DEs"
      },
      "source": [
        "### Preços\n",
        "\n",
        "Existem carros sendo vendidos por até mais de 2 milhões. Nestes casos, podem ser carros raros, modificados, com determinados acessórios, entre outros motivos. Para termos uma noção compreensiva da distribuição de preços de veículos razoavelmente comuns, nos manteremos na faixa entre 0-150 mil reais. "
      ]
    },
    {
      "cell_type": "code",
      "metadata": {
        "colab": {
          "base_uri": "https://localhost:8080/",
          "height": 320
        },
        "id": "5BaKBQNj2DEt",
        "outputId": "1b1b1155-4ca9-4647-bd4d-3148b8c602d3"
      },
      "source": [
        "# histogram\n",
        "car[['fipe_price', 'price']].plot(kind='hist', alpha=0.7, bins=200, range=[0,1.5*10**5], figsize=(15,5));"
      ],
      "execution_count": 11,
      "outputs": [
        {
          "output_type": "display_data",
          "data": {
            "image/png": "[encoded data removed]",
            "text/plain": [
              "<Figure size 1080x360 with 1 Axes>"
            ]
          },
          "metadata": {
            "tags": [],
            "needs_background": "light"
          }
        }
      ]
    },
    {
      "cell_type": "markdown",
      "metadata": {
        "id": "Oc2hhwxJ2DEv"
      },
      "source": [
        "Aparentemente, existe uma boa convergência entre os dados dos anúncios e os dados da Tabela Fipe. No entanto, existe uma tendência dos preços dos anúncios de serem arredondados. Desta forma, preços de anúncios tendem por vezes a parecer valores discretos, devido à tendência comportamental de arredondar preços em múltiplos de 5 ou 10, ou em algorismos terminados em 99."
      ]
    },
    {
      "cell_type": "code",
      "metadata": {
        "colab": {
          "base_uri": "https://localhost:8080/"
        },
        "id": "fZ6Hd4oU2DEw",
        "outputId": "c4903d9c-04f3-4b05-d335-cf371979a785"
      },
      "source": [
        "# skewness and kurtosis\n",
        "print(\"Preços anunciados\")\n",
        "print(\"Assimetria: %f\" % car['price'].skew())\n",
        "print(\"Curtose: %f\" % car['price'].kurt())\n",
        "print(\"======\")\n",
        "print(\"Preços da Tabela Fipe\")\n",
        "print(\"Assimetria: %f\" % car['fipe_price'].skew())\n",
        "print(\"Curtose: %f\" % car['fipe_price'].kurt())"
      ],
      "execution_count": 12,
      "outputs": [
        {
          "output_type": "stream",
          "text": [
            "Preços anunciados\n",
            "Assimetria: 599.943643\n",
            "Curtose: 367222.152728\n",
            "======\n",
            "Preços da Tabela Fipe\n",
            "Assimetria: 7.671094\n",
            "Curtose: 187.749246\n"
          ],
          "name": "stdout"
        }
      ]
    },
    {
      "cell_type": "code",
      "metadata": {
        "colab": {
          "base_uri": "https://localhost:8080/",
          "height": 291
        },
        "id": "g8GG4bIU2DEx",
        "outputId": "d481d59b-f56e-483c-dd7e-581dde69453d"
      },
      "source": [
        "# scatter plot \n",
        "data = pd.concat([car['price'], car['fipe_price'], car['km']], axis=1)\n",
        "\n",
        "fig, ax = plt.subplots(1, 2, figsize=(11,4))\n",
        "data.plot.scatter(x='fipe_price', y='price', xlim=(0,10**6), ylim=(0,10**6), ax=ax[0])\n",
        "data.plot.scatter(x='km', y='price', xlim=(0,10**6), ylim=(0,1.5*10**6), ax=ax[1]);"
      ],
      "execution_count": 13,
      "outputs": [
        {
          "output_type": "display_data",
          "data": {
            "image/png": "[encoded data removed]",
            "text/plain": [
              "<Figure size 792x288 with 2 Axes>"
            ]
          },
          "metadata": {
            "tags": [],
            "needs_background": "light"
          }
        }
      ]
    },
    {
      "cell_type": "code",
      "metadata": {
        "id": "Xl3v-LkLDTG3"
      },
      "source": [
        "data.plot.scatter(x='km', y='price', xlim=(0,10**6), ylim=(0,1.5*10**6), ax=ax[0]);"
      ],
      "execution_count": 14,
      "outputs": []
    },
    {
      "cell_type": "markdown",
      "metadata": {
        "id": "FHiTzkXd_rAW"
      },
      "source": [
        ""
      ]
    },
    {
      "cell_type": "code",
      "metadata": {
        "colab": {
          "base_uri": "https://localhost:8080/",
          "height": 265
        },
        "id": "qbk0_XL9_rSq",
        "outputId": "1924d19f-4e6c-42e3-996c-806075815839"
      },
      "source": [
        "car[['km']].plot(kind='hist', alpha=0.7, bins=50, range=[0,3*10**5]).set_yscale('log');"
      ],
      "execution_count": 15,
      "outputs": [
        {
          "output_type": "display_data",
          "data": {
            "image/png": "[encoded data removed]",
            "text/plain": [
              "<Figure size 432x288 with 1 Axes>"
            ]
          },
          "metadata": {
            "tags": [],
            "needs_background": "light"
          }
        }
      ]
    },
    {
      "cell_type": "markdown",
      "metadata": {
        "id": "lgxsw5D6Dqif"
      },
      "source": [
        "### Fabricante"
      ]
    },
    {
      "cell_type": "code",
      "metadata": {
        "colab": {
          "base_uri": "https://localhost:8080/",
          "height": 350
        },
        "id": "Y9YYfm0LDp73",
        "outputId": "a5a0de1f-d46d-49ec-aeaf-d1cd0dbf9629"
      },
      "source": [
        "plt.subplots(figsize=(8,5))\r\n",
        "sns.countplot(y = car['make'], order=car['make'].value_counts().nlargest(15).index).set_title('Top 15 Fabricantes de Veículos Mais Populares');"
      ],
      "execution_count": 16,
      "outputs": [
        {
          "output_type": "display_data",
          "data": {
            "image/png": "[encoded data removed]",
            "text/plain": [
              "<Figure size 576x360 with 1 Axes>"
            ]
          },
          "metadata": {
            "tags": [],
            "needs_background": "light"
          }
        }
      ]
    },
    {
      "cell_type": "markdown",
      "metadata": {
        "id": "s8au5Mvg2DE2"
      },
      "source": [
        "### Região e Tipo de Carro\r\n",
        "\r\n",
        "Existem diversos fatores para que um carro seja vendido com um valor diferente ao da Tabela Fipe. Um fator importante a ser considerado é que o Brasil possui diversas regiões geográficas com características sócio-econômicas diferentes. Por exemplo, as regiões norte e sudeste possuem renda per capita bastante diferente, o que influi no preço dos veículos. Ou então, um carro potente como uma picape pode ser mais caro ou mais popular nas extensas áreas agricultáveis do Centro-Oeste, devido a sua maior utilidade nestas regiões. Vamos comparar, por exemplo, os tipos (*bodystyles*) de carro mais populares nos estados de Mato Grosso e São Paulo (figura abaixo). Neste caso, de fato, picapes são relativamente mais populares no Estado de MT do que em SP. "
      ]
    },
    {
      "cell_type": "code",
      "metadata": {
        "colab": {
          "base_uri": "https://localhost:8080/",
          "height": 350
        },
        "id": "adHEJeZj2DE3",
        "outputId": "3ad45f19-d5ea-4137-af91-140ba4fba88b"
      },
      "source": [
        "car_mt = car.loc[car.region=='MT']\n",
        "car_sp = car.loc[car.region=='SP']\n",
        "\n",
        "fig, ax = plt.subplots(1, 2, figsize=(17,5))\n",
        "sns.countplot(y = car_mt['bodystyle'], order=car_mt['bodystyle'].value_counts().index, ax=ax[0]);\n",
        "sns.countplot(y = car_sp['bodystyle'], order=car_sp['bodystyle'].value_counts().index, ax=ax[1]);\n",
        "ax[0].set_title('Tipos de Carro no Estado de MT');\n",
        "ax[1].set_title('Tipos de Carro no Estado de SP');"
      ],
      "execution_count": 17,
      "outputs": [
        {
          "output_type": "display_data",
          "data": {
            "image/png": "[encoded data removed]",
            "text/plain": [
              "<Figure size 1224x360 with 2 Axes>"
            ]
          },
          "metadata": {
            "tags": [],
            "needs_background": "light"
          }
        }
      ]
    },
    {
      "cell_type": "code",
      "metadata": {
        "colab": {
          "base_uri": "https://localhost:8080/",
          "height": 392
        },
        "id": "nK1aTQ0x2DEz",
        "outputId": "de488688-ec12-44f9-cfab-8ba7c04ea654"
      },
      "source": [
        "#box plot price/region\n",
        "data = pd.concat([car['price'], car['region']], axis=1)\n",
        "f, ax = plt.subplots(figsize=(8, 6))\n",
        "fig = sns.boxplot(x='region', y='price', data=data)\n",
        "fig.axis(ymin=0, ymax=200000);"
      ],
      "execution_count": 18,
      "outputs": [
        {
          "output_type": "display_data",
          "data": {
            "image/png": "[encoded data removed]",
            "text/plain": [
              "<Figure size 576x432 with 1 Axes>"
            ]
          },
          "metadata": {
            "tags": [],
            "needs_background": "light"
          }
        }
      ]
    },
    {
      "cell_type": "markdown",
      "metadata": {
        "id": "FrG2alVD2DE5"
      },
      "source": [
        "Outras circunstâncias geográficas podem afetar os preços dos carros. Assim, regiões litorâneas que são afetadas pelos efeitos da maresia podem ter seus carros vendidos a preços mais baixos, pois os carros enferrujam mais rapidamente. No entanto, não podemos testar hipótese com razoabilidade, já que o conjunto de dados não segrega veículos que rodaram especificamente no litoral."
      ]
    },
    {
      "cell_type": "markdown",
      "metadata": {
        "id": "KtwFbHQaQIfV"
      },
      "source": [
        "### Motor"
      ]
    },
    {
      "cell_type": "code",
      "metadata": {
        "colab": {
          "base_uri": "https://localhost:8080/"
        },
        "id": "BHc1EPj62DE1",
        "outputId": "6b723c2f-f8c6-4687-f578-db5beaa924ec"
      },
      "source": [
        "# engine\n",
        "print('Tipos diferentes de motores no dataset:', len(car['engine'].unique()))"
      ],
      "execution_count": 19,
      "outputs": [
        {
          "output_type": "stream",
          "text": [
            "Tipos diferentes de motores no dataset: 209\n"
          ],
          "name": "stdout"
        }
      ]
    },
    {
      "cell_type": "markdown",
      "metadata": {
        "id": "KCLQg6sjQUO4"
      },
      "source": [
        "Existem muitos tipos diferentes de motor na tabela. Eles podem ser parecidos ou diferentes entre si, mas da forma como os dados estão apresentados, cada motor é uma categoria única, e cada motor é classificado individualmente ante os demais. Se tivéssemos outras informações sobre o motor (como cilindradas e gasto de gasolina por km), poderíamos tirar conclusões mais gerais, e talvez mais precisas sobre o potência do motor, por exemplo. Sem dúvida, os dados poderiam ser limpos de forma que estas informações fossem incrementadas; porém, vamos trabalhar com os dados categóricos da forma que estão."
      ]
    },
    {
      "cell_type": "code",
      "metadata": {
        "colab": {
          "base_uri": "https://localhost:8080/",
          "height": 350
        },
        "id": "UU6098DlFdIG",
        "outputId": "f7f11e73-b203-47ab-fc3c-24152376618d"
      },
      "source": [
        "plt.subplots(figsize=(8,5))\r\n",
        "sns.countplot(y = car['engine'], order=car['engine'].value_counts().nlargest(15).index).set_title('Top 15 Motores Mais Populares');"
      ],
      "execution_count": 20,
      "outputs": [
        {
          "output_type": "display_data",
          "data": {
            "image/png": "[encoded data removed]",
            "text/plain": [
              "<Figure size 576x360 with 1 Axes>"
            ]
          },
          "metadata": {
            "tags": [],
            "needs_background": "light"
          }
        }
      ]
    },
    {
      "cell_type": "markdown",
      "metadata": {
        "id": "tNpTpsVWR_sG"
      },
      "source": [
        "### Ano do modelo\r\n",
        "\r\n",
        "Automóveis diminuem gradativamente de preço conforme vão ficando mais velhos, desde o presente até cerca de 1990. Carros mais antigos do que 1990, no entanto, subvertem essa tendência, e seus preços podem variar bastante. Carros dos anos 1950-60 podem chegar até a ser mais caros do que carros atuais. Podemos colocar algumas hipóteses para isso:\r\n",
        "- Carros antigos preservados valem mais por sua raridade e acabam virando objeto de colecionador.\r\n",
        "- Carros antigos adquirem grande valor emocional, que é convertido no preço.\r\n",
        "- Carros antigos podem ter passado por reformas valorizadoras (troca de motor, pintura, etc.)"
      ]
    },
    {
      "cell_type": "code",
      "metadata": {
        "colab": {
          "base_uri": "https://localhost:8080/",
          "height": 408
        },
        "id": "ji7cDiNi2DE0",
        "outputId": "9915a0a7-ecce-4fba-e909-cfcaf5c51ead"
      },
      "source": [
        "#box plot price/modelyear\n",
        "data = pd.concat([car['price'], car['modelyear']], axis=1)\n",
        "f, ax = plt.subplots(figsize=(16, 6))\n",
        "fig = sns.boxplot(x='modelyear', y='price', data=data)\n",
        "fig.axis(ymin=0, ymax=300000)\n",
        "plt.xticks(rotation=90);"
      ],
      "execution_count": 21,
      "outputs": [
        {
          "output_type": "display_data",
          "data": {
            "image/png": "[encoded data removed]",
            "text/plain": [
              "<Figure size 1152x432 with 1 Axes>"
            ]
          },
          "metadata": {
            "tags": [],
            "needs_background": "light"
          }
        }
      ]
    },
    {
      "cell_type": "markdown",
      "metadata": {
        "id": "fj0dPxqU2DE9"
      },
      "source": [
        "## Preparação\n",
        "\n"
      ]
    },
    {
      "cell_type": "markdown",
      "metadata": {
        "id": "vVmN3E0t2DE-"
      },
      "source": [
        "### createdat\n",
        "Como a Tabela Fipe é atualizada mensalmente, devemos verificar se nossos dados de preço estão organizados temporalmente ('atualizados'). Para isso, limpamos a primeira coluna **createdat**:"
      ]
    },
    {
      "cell_type": "code",
      "metadata": {
        "colab": {
          "base_uri": "https://localhost:8080/"
        },
        "id": "5uPsXZjf2DE-",
        "outputId": "128f556a-c096-440e-b482-13d76cb8e165"
      },
      "source": [
        "import re\n",
        "search = []    \n",
        "for values in car['createdat']:\n",
        "    search.append(re.search(r'^.{0,10}', values).group()) # regex para selecionar os 10 primeiros caracteres do string\n",
        "\n",
        "car['creation_date'] = search\n",
        "car['creation_date'].unique()"
      ],
      "execution_count": 22,
      "outputs": [
        {
          "output_type": "execute_result",
          "data": {
            "text/plain": [
              "array(['2020-10-01', '2020-10-02', '2020-10-03', '2020-10-04',\n",
              "       '2020-10-05', '2020-10-06', '2020-10-07', '2020-10-08',\n",
              "       '2020-10-09', '2020-10-10', '2020-10-11', '2020-10-12',\n",
              "       '2020-10-13', '2020-10-14', '2020-10-15', '2020-10-16',\n",
              "       '2020-10-17', '2020-10-18', '2020-10-19', '2020-10-20',\n",
              "       '2020-10-21', '2020-10-22', '2020-10-23', '2020-10-24',\n",
              "       '2020-10-25', '2020-10-26', '2020-10-27', '2020-10-28',\n",
              "       '2020-10-29', '2020-10-30', '2020-10-31', '2020-11-01',\n",
              "       '2020-11-02', '2020-11-03', '2020-11-04', '2020-11-05',\n",
              "       '2020-11-06', '2020-11-07', '2020-11-08', '2020-11-09',\n",
              "       '2020-11-10', '2020-11-11', '2020-11-12', '2020-11-13',\n",
              "       '2020-11-14', '2020-11-15', '2020-11-16', '2020-11-17',\n",
              "       '2020-11-18', '2020-11-19', '2020-11-20', '2020-11-21',\n",
              "       '2020-11-22', '2020-11-23', '2020-11-24', '2020-11-25',\n",
              "       '2020-11-26', '2020-11-27', '2020-11-28', '2020-11-29',\n",
              "       '2020-11-30', '2020-12-01', '2020-12-02', '2020-12-03',\n",
              "       '2020-12-04', '2020-12-05', '2020-12-06', '2020-12-07',\n",
              "       '2020-12-08', '2020-12-09', '2020-12-10', '2020-12-11',\n",
              "       '2020-12-12', '2020-12-13', '2020-12-14', '2020-12-15',\n",
              "       '2020-12-16', '2020-12-17', '2020-12-18', '2020-12-19',\n",
              "       '2020-12-20', '2020-12-21', '2020-12-22', '2020-12-23',\n",
              "       '2020-12-24', '2020-12-25', '2020-12-26', '2020-12-27',\n",
              "       '2020-12-28', '2020-12-29', '2020-12-30', '2020-12-31'],\n",
              "      dtype=object)"
            ]
          },
          "metadata": {
            "tags": []
          },
          "execution_count": 22
        }
      ]
    },
    {
      "cell_type": "markdown",
      "metadata": {
        "id": "VZwBdnq82DE_"
      },
      "source": [
        "Os dados foram extraídos em várias datas diferentes. Seria interessante verificar se, em cada data indicada, os mesmos modelos de carro foram atualizados com valores diferentes."
      ]
    },
    {
      "cell_type": "code",
      "metadata": {
        "colab": {
          "base_uri": "https://localhost:8080/"
        },
        "id": "l-Bpge5K2DFA",
        "outputId": "f31bc902-07f0-4e80-baaf-02450a27124e"
      },
      "source": [
        "search = []    \n",
        "for values in car['createdat']:\n",
        "    search.append(re.search(r'^.{0,7}', values).group()) # regex para selecionar os 7 primeiros caracteres do string\n",
        "\n",
        "car['creation_month'] = search\n",
        "car['creation_month'].unique()"
      ],
      "execution_count": 23,
      "outputs": [
        {
          "output_type": "execute_result",
          "data": {
            "text/plain": [
              "array(['2020-10', '2020-11', '2020-12'], dtype=object)"
            ]
          },
          "metadata": {
            "tags": []
          },
          "execution_count": 23
        }
      ]
    },
    {
      "cell_type": "markdown",
      "metadata": {
        "id": "Dojj0Yo89rQ7"
      },
      "source": [
        "Desta forma, existe uma proporcionalidade entre os dados mensais. No entanto, os dados não são equilibrados, i.e. não possuem a mesma quantidade de dados para cada categoria. Portanto, existe uma certa assimetria 'horizontal' dos dados, mas não sabemos se isso pode atrapalhar a análise. \r\n",
        "\r\n",
        "Se analisássemos dados históricos teríamos que considerar o efeito da inflação nas variáveis. Porém, como os dados estão distribuídos ao longo de apenas três meses conseguintes, podemos considerar, em primeira instância, que a inflação dos preços não surtiu tanto efeito na distribuição dos preços.\r\n",
        "\r\n",
        "Para continuarmos nossa modelagem de dados, vamos conferir o uso de memória do dataset antigo `car` e do dataset já preparado, `df_final`."
      ]
    },
    {
      "cell_type": "markdown",
      "metadata": {
        "id": "W5EwgHC-2DFB"
      },
      "source": [
        "#### Dados nulos e infinitos"
      ]
    },
    {
      "cell_type": "code",
      "metadata": {
        "colab": {
          "base_uri": "https://localhost:8080/",
          "height": 204
        },
        "id": "GyuphVBA2DFE",
        "outputId": "d4facc35-9829-4d55-9909-6df87ae5f858"
      },
      "source": [
        "total = car.isnull().sum().sort_values(ascending=False)\n",
        "percent = (car.isnull().sum()/car.isnull().count()).sort_values(ascending=False)\n",
        "missing_data = pd.concat([total, percent], axis=1, keys=['Total', 'Porcentagem'])\n",
        "missing_data.head(5)"
      ],
      "execution_count": 24,
      "outputs": [
        {
          "output_type": "execute_result",
          "data": {
            "text/html": [
              "<div>\n",
              "<style scoped>\n",
              "    .dataframe tbody tr th:only-of-type {\n",
              "        vertical-align: middle;\n",
              "    }\n",
              "\n",
              "    .dataframe tbody tr th {\n",
              "        vertical-align: top;\n",
              "    }\n",
              "\n",
              "    .dataframe thead th {\n",
              "        text-align: right;\n",
              "    }\n",
              "</style>\n",
              "<table border=\"1\" class=\"dataframe\">\n",
              "  <thead>\n",
              "    <tr style=\"text-align: right;\">\n",
              "      <th></th>\n",
              "      <th>Total</th>\n",
              "      <th>Porcentagem</th>\n",
              "    </tr>\n",
              "  </thead>\n",
              "  <tbody>\n",
              "    <tr>\n",
              "      <th>fipe_price</th>\n",
              "      <td>22627</td>\n",
              "      <td>0.058641</td>\n",
              "    </tr>\n",
              "    <tr>\n",
              "      <th>engine</th>\n",
              "      <td>6941</td>\n",
              "      <td>0.017989</td>\n",
              "    </tr>\n",
              "    <tr>\n",
              "      <th>km</th>\n",
              "      <td>2664</td>\n",
              "      <td>0.006904</td>\n",
              "    </tr>\n",
              "    <tr>\n",
              "      <th>price</th>\n",
              "      <td>236</td>\n",
              "      <td>0.000612</td>\n",
              "    </tr>\n",
              "    <tr>\n",
              "      <th>creation_month</th>\n",
              "      <td>0</td>\n",
              "      <td>0.000000</td>\n",
              "    </tr>\n",
              "  </tbody>\n",
              "</table>\n",
              "</div>"
            ],
            "text/plain": [
              "                Total  Porcentagem\n",
              "fipe_price      22627     0.058641\n",
              "engine           6941     0.017989\n",
              "km               2664     0.006904\n",
              "price             236     0.000612\n",
              "creation_month      0     0.000000"
            ]
          },
          "metadata": {
            "tags": []
          },
          "execution_count": 24
        }
      ]
    },
    {
      "cell_type": "markdown",
      "metadata": {
        "id": "DEfCn9JD2DFF"
      },
      "source": [
        "A porcentagem de dados nulos é bem baixa. Dados nulos também ocorrem em apenas quatro variáveis (a variável `creation_month` e todas as outras variáveis fora da tabela não possuem dados nulos). Como a quantidade de dados nulos é baixa (<0.058), se apagarmos estes dados, nossa análise será pouco afetada."
      ]
    },
    {
      "cell_type": "code",
      "metadata": {
        "colab": {
          "base_uri": "https://localhost:8080/"
        },
        "id": "tWQmAF5L2DFH",
        "outputId": "8f78a805-a30f-4a4e-b224-f354ccc1abe8"
      },
      "source": [
        "car.isnull().sum().max()"
      ],
      "execution_count": 25,
      "outputs": [
        {
          "output_type": "execute_result",
          "data": {
            "text/plain": [
              "22627"
            ]
          },
          "metadata": {
            "tags": []
          },
          "execution_count": 25
        }
      ]
    },
    {
      "cell_type": "code",
      "metadata": {
        "id": "mHjzLoxz2DFI"
      },
      "source": [
        "# lidando com dados nulos\n",
        "car.dropna(axis=0, how='any')\n",
        "\n",
        "# lidando com dados infinitos\n",
        "with pd.option_context('mode.use_inf_as_null', True):\n",
        "    car = car.dropna()"
      ],
      "execution_count": 26,
      "outputs": []
    },
    {
      "cell_type": "markdown",
      "metadata": {
        "id": "AVuMzSkb2DFJ"
      },
      "source": [
        "#### Outliers\n",
        "\n",
        "Também devemos nos manter atentos a outliers. Nos gráficos anteriores, precisamos limitar os eixos x e y, pois diversos veículos chegam a valores muito altos que beiram o irreal, muitas vezes devido a variáveis incomensuráveis, como o apego emocional ao carro. No entanto, para fazer nosso modelo funcionar, devemos nos apegar a fundamentos de valor mais concretos. Assim, podemos fazer uma análise univariada utilizando `StandardScaler` para estabelecer um limiar que define uma observação como um outlier."
      ]
    },
    {
      "cell_type": "code",
      "metadata": {
        "colab": {
          "base_uri": "https://localhost:8080/"
        },
        "id": "fBlZglhN2DFK",
        "outputId": "8b5b87de-e64e-47a0-ec30-c8139ee7127d"
      },
      "source": [
        "from sklearn.preprocessing import StandardScaler\n",
        "\n",
        "#standardizing data\n",
        "saleprice_scaled = StandardScaler().fit_transform(car['price'][:,np.newaxis]);\n",
        "low_range = saleprice_scaled[saleprice_scaled[:,0].argsort()][:10]\n",
        "high_range = saleprice_scaled[saleprice_scaled[:,0].argsort()][-10:]\n",
        "print('outer range (low) of the distribution:')\n",
        "print(low_range)\n",
        "print('\\nouter range (high) of the distribution:')\n",
        "print(high_range)"
      ],
      "execution_count": 27,
      "outputs": [
        {
          "output_type": "stream",
          "text": [
            "outer range (low) of the distribution:\n",
            "[[-0.03199464]\n",
            " [-0.03199464]\n",
            " [-0.03199464]\n",
            " [-0.03199464]\n",
            " [-0.03199464]\n",
            " [-0.03199464]\n",
            " [-0.03199464]\n",
            " [-0.03199464]\n",
            " [-0.03199464]\n",
            " [-0.03199464]]\n",
            "\n",
            "outer range (high) of the distribution:\n",
            "[[  1.03297048]\n",
            " [  1.03297048]\n",
            " [  1.07062076]\n",
            " [  1.19970745]\n",
            " [  1.25349356]\n",
            " [  1.25349356]\n",
            " [  1.3610658 ]\n",
            " [  1.58158888]\n",
            " [ 59.73035824]\n",
            " [597.59156   ]]\n"
          ],
          "name": "stdout"
        }
      ]
    },
    {
      "cell_type": "markdown",
      "metadata": {
        "id": "8lZPYiym2DFL"
      },
      "source": [
        "A faixa superior de valores contém valores muito altos, como 59.73 e 597.59, que certamente nos trarão problemas."
      ]
    },
    {
      "cell_type": "code",
      "metadata": {
        "id": "ZZ1Dmmtw2DFL"
      },
      "source": [
        "car = car.sort_values(by='price', ascending=False).iloc[2:] # deletando os dois outliers"
      ],
      "execution_count": 28,
      "outputs": []
    },
    {
      "cell_type": "code",
      "metadata": {
        "colab": {
          "base_uri": "https://localhost:8080/",
          "height": 309
        },
        "id": "4AEK2ZGV2DFM",
        "outputId": "5beb017e-bc0c-40cb-ba5a-f234bc1ba7bb"
      },
      "source": [
        "car.sort_values(by='price', ascending=False).head()"
      ],
      "execution_count": 29,
      "outputs": [
        {
          "output_type": "execute_result",
          "data": {
            "text/html": [
              "<div>\n",
              "<style scoped>\n",
              "    .dataframe tbody tr th:only-of-type {\n",
              "        vertical-align: middle;\n",
              "    }\n",
              "\n",
              "    .dataframe tbody tr th {\n",
              "        vertical-align: top;\n",
              "    }\n",
              "\n",
              "    .dataframe thead th {\n",
              "        text-align: right;\n",
              "    }\n",
              "</style>\n",
              "<table border=\"1\" class=\"dataframe\">\n",
              "  <thead>\n",
              "    <tr style=\"text-align: right;\">\n",
              "      <th></th>\n",
              "      <th>createdat</th>\n",
              "      <th>make</th>\n",
              "      <th>model</th>\n",
              "      <th>modelyear</th>\n",
              "      <th>fipe_price</th>\n",
              "      <th>price</th>\n",
              "      <th>km</th>\n",
              "      <th>region</th>\n",
              "      <th>phonearea</th>\n",
              "      <th>color</th>\n",
              "      <th>engine</th>\n",
              "      <th>bodystyle</th>\n",
              "      <th>fuel</th>\n",
              "      <th>creation_date</th>\n",
              "      <th>creation_month</th>\n",
              "    </tr>\n",
              "  </thead>\n",
              "  <tbody>\n",
              "    <tr>\n",
              "      <th>357098</th>\n",
              "      <td>2020-12-20T10:03:15Z</td>\n",
              "      <td>Lamborghini</td>\n",
              "      <td>Huracán</td>\n",
              "      <td>2019</td>\n",
              "      <td>2785120.0</td>\n",
              "      <td>3000000.0</td>\n",
              "      <td>6758.0</td>\n",
              "      <td>SP</td>\n",
              "      <td>15</td>\n",
              "      <td>Azul</td>\n",
              "      <td>5.2</td>\n",
              "      <td>Coupê</td>\n",
              "      <td>Gasolina</td>\n",
              "      <td>2020-12-20</td>\n",
              "      <td>2020-12</td>\n",
              "    </tr>\n",
              "    <tr>\n",
              "      <th>138756</th>\n",
              "      <td>2020-11-01T05:54:20Z</td>\n",
              "      <td>Ferrari</td>\n",
              "      <td>488 GTB</td>\n",
              "      <td>2018</td>\n",
              "      <td>2020310.0</td>\n",
              "      <td>2590000.0</td>\n",
              "      <td>755.0</td>\n",
              "      <td>SP</td>\n",
              "      <td>11</td>\n",
              "      <td>Preto</td>\n",
              "      <td>3.9</td>\n",
              "      <td>Conversível</td>\n",
              "      <td>Gasolina</td>\n",
              "      <td>2020-11-01</td>\n",
              "      <td>2020-11</td>\n",
              "    </tr>\n",
              "    <tr>\n",
              "      <th>141356</th>\n",
              "      <td>2020-11-01T08:44:00Z</td>\n",
              "      <td>Ferrari</td>\n",
              "      <td>488 GTB</td>\n",
              "      <td>2017</td>\n",
              "      <td>1958950.0</td>\n",
              "      <td>2390000.0</td>\n",
              "      <td>2987.0</td>\n",
              "      <td>SP</td>\n",
              "      <td>15</td>\n",
              "      <td>Branco</td>\n",
              "      <td>3.9</td>\n",
              "      <td>Conversível</td>\n",
              "      <td>Gasolina</td>\n",
              "      <td>2020-11-01</td>\n",
              "      <td>2020-11</td>\n",
              "    </tr>\n",
              "    <tr>\n",
              "      <th>204104</th>\n",
              "      <td>2020-11-15T10:23:25Z</td>\n",
              "      <td>Ferrari</td>\n",
              "      <td>488 GTB</td>\n",
              "      <td>2017</td>\n",
              "      <td>1958950.0</td>\n",
              "      <td>2390000.0</td>\n",
              "      <td>2987.0</td>\n",
              "      <td>SP</td>\n",
              "      <td>15</td>\n",
              "      <td>Branco</td>\n",
              "      <td>3.9</td>\n",
              "      <td>Conversível</td>\n",
              "      <td>Gasolina</td>\n",
              "      <td>2020-11-15</td>\n",
              "      <td>2020-11</td>\n",
              "    </tr>\n",
              "    <tr>\n",
              "      <th>233635</th>\n",
              "      <td>2020-11-22T12:24:01Z</td>\n",
              "      <td>Mercedes-Benz</td>\n",
              "      <td>G 63 AMG</td>\n",
              "      <td>2020</td>\n",
              "      <td>1214720.0</td>\n",
              "      <td>2290000.0</td>\n",
              "      <td>0.0</td>\n",
              "      <td>SP</td>\n",
              "      <td>11</td>\n",
              "      <td>Branco</td>\n",
              "      <td>4.0</td>\n",
              "      <td>SUV</td>\n",
              "      <td>Gasolina</td>\n",
              "      <td>2020-11-22</td>\n",
              "      <td>2020-11</td>\n",
              "    </tr>\n",
              "  </tbody>\n",
              "</table>\n",
              "</div>"
            ],
            "text/plain": [
              "                   createdat           make  ... creation_date  creation_month\n",
              "357098  2020-12-20T10:03:15Z    Lamborghini  ...    2020-12-20         2020-12\n",
              "138756  2020-11-01T05:54:20Z        Ferrari  ...    2020-11-01         2020-11\n",
              "141356  2020-11-01T08:44:00Z        Ferrari  ...    2020-11-01         2020-11\n",
              "204104  2020-11-15T10:23:25Z        Ferrari  ...    2020-11-15         2020-11\n",
              "233635  2020-11-22T12:24:01Z  Mercedes-Benz  ...    2020-11-22         2020-11\n",
              "\n",
              "[5 rows x 15 columns]"
            ]
          },
          "metadata": {
            "tags": []
          },
          "execution_count": 29
        }
      ]
    },
    {
      "cell_type": "markdown",
      "metadata": {
        "id": "erIlkD902DFM"
      },
      "source": [
        "A faixa inferior de valores é muito próxima a zero. Teoricamente, não teríamos problemas. No entanto, carros \"de graça\" podem atrapalhar a simetria do nosso modelo assim como valores nulos. Portanto, vamos considerar apenas carros acima de um determinado valor, i.e. 10 reais."
      ]
    },
    {
      "cell_type": "code",
      "metadata": {
        "colab": {
          "base_uri": "https://localhost:8080/"
        },
        "id": "7KYvEoIi2DFN",
        "outputId": "b7b84913-7c4e-4566-c81b-b425f0011776"
      },
      "source": [
        "car = car[car['price'] > 10]\n",
        "car.shape"
      ],
      "execution_count": 30,
      "outputs": [
        {
          "output_type": "execute_result",
          "data": {
            "text/plain": [
              "(358386, 15)"
            ]
          },
          "metadata": {
            "tags": []
          },
          "execution_count": 30
        }
      ]
    },
    {
      "cell_type": "code",
      "metadata": {
        "colab": {
          "base_uri": "https://localhost:8080/",
          "height": 309
        },
        "id": "NUh1TwqE2DFO",
        "outputId": "c56080be-fdad-4a0b-e4f7-3c485a5ef8b2"
      },
      "source": [
        "car.sort_values(by='price', ascending=True).head()"
      ],
      "execution_count": 31,
      "outputs": [
        {
          "output_type": "execute_result",
          "data": {
            "text/html": [
              "<div>\n",
              "<style scoped>\n",
              "    .dataframe tbody tr th:only-of-type {\n",
              "        vertical-align: middle;\n",
              "    }\n",
              "\n",
              "    .dataframe tbody tr th {\n",
              "        vertical-align: top;\n",
              "    }\n",
              "\n",
              "    .dataframe thead th {\n",
              "        text-align: right;\n",
              "    }\n",
              "</style>\n",
              "<table border=\"1\" class=\"dataframe\">\n",
              "  <thead>\n",
              "    <tr style=\"text-align: right;\">\n",
              "      <th></th>\n",
              "      <th>createdat</th>\n",
              "      <th>make</th>\n",
              "      <th>model</th>\n",
              "      <th>modelyear</th>\n",
              "      <th>fipe_price</th>\n",
              "      <th>price</th>\n",
              "      <th>km</th>\n",
              "      <th>region</th>\n",
              "      <th>phonearea</th>\n",
              "      <th>color</th>\n",
              "      <th>engine</th>\n",
              "      <th>bodystyle</th>\n",
              "      <th>fuel</th>\n",
              "      <th>creation_date</th>\n",
              "      <th>creation_month</th>\n",
              "    </tr>\n",
              "  </thead>\n",
              "  <tbody>\n",
              "    <tr>\n",
              "      <th>349538</th>\n",
              "      <td>2020-12-18T12:15:57Z</td>\n",
              "      <td>Fiat</td>\n",
              "      <td>Palio</td>\n",
              "      <td>1997</td>\n",
              "      <td>7121.0</td>\n",
              "      <td>4500.0</td>\n",
              "      <td>257000.0</td>\n",
              "      <td>SP</td>\n",
              "      <td>11</td>\n",
              "      <td>Azul</td>\n",
              "      <td>1</td>\n",
              "      <td>Hatch</td>\n",
              "      <td>Gasolina</td>\n",
              "      <td>2020-12-18</td>\n",
              "      <td>2020-12</td>\n",
              "    </tr>\n",
              "    <tr>\n",
              "      <th>321129</th>\n",
              "      <td>2020-12-11T08:44:26Z</td>\n",
              "      <td>Fiat</td>\n",
              "      <td>Uno Mille</td>\n",
              "      <td>1996</td>\n",
              "      <td>6568.0</td>\n",
              "      <td>4900.0</td>\n",
              "      <td>999999.0</td>\n",
              "      <td>PR</td>\n",
              "      <td>41</td>\n",
              "      <td>Cinza</td>\n",
              "      <td>1</td>\n",
              "      <td>Hatch</td>\n",
              "      <td>Gasolina</td>\n",
              "      <td>2020-12-11</td>\n",
              "      <td>2020-12</td>\n",
              "    </tr>\n",
              "    <tr>\n",
              "      <th>95288</th>\n",
              "      <td>2020-10-22T17:46:44Z</td>\n",
              "      <td>Fiat</td>\n",
              "      <td>Uno Furgão</td>\n",
              "      <td>1998</td>\n",
              "      <td>5754.0</td>\n",
              "      <td>4990.0</td>\n",
              "      <td>100.0</td>\n",
              "      <td>SC</td>\n",
              "      <td>47</td>\n",
              "      <td>Branco</td>\n",
              "      <td>1.5</td>\n",
              "      <td>Van/Furgão</td>\n",
              "      <td>Gasolina</td>\n",
              "      <td>2020-10-22</td>\n",
              "      <td>2020-10</td>\n",
              "    </tr>\n",
              "    <tr>\n",
              "      <th>368904</th>\n",
              "      <td>2020-12-23T11:40:55Z</td>\n",
              "      <td>Hyundai</td>\n",
              "      <td>HB20S</td>\n",
              "      <td>2021</td>\n",
              "      <td>56325.0</td>\n",
              "      <td>5000.0</td>\n",
              "      <td>0.0</td>\n",
              "      <td>SP</td>\n",
              "      <td>14</td>\n",
              "      <td>Branco</td>\n",
              "      <td>1.0</td>\n",
              "      <td>Sedan</td>\n",
              "      <td>Flex</td>\n",
              "      <td>2020-12-23</td>\n",
              "      <td>2020-12</td>\n",
              "    </tr>\n",
              "    <tr>\n",
              "      <th>361877</th>\n",
              "      <td>2020-12-21T16:50:51Z</td>\n",
              "      <td>Renault</td>\n",
              "      <td>Clio</td>\n",
              "      <td>2005</td>\n",
              "      <td>9685.0</td>\n",
              "      <td>5890.0</td>\n",
              "      <td>220000.0</td>\n",
              "      <td>SP</td>\n",
              "      <td>11</td>\n",
              "      <td>Verde</td>\n",
              "      <td>1.0</td>\n",
              "      <td>Hatch</td>\n",
              "      <td>Gasolina</td>\n",
              "      <td>2020-12-21</td>\n",
              "      <td>2020-12</td>\n",
              "    </tr>\n",
              "  </tbody>\n",
              "</table>\n",
              "</div>"
            ],
            "text/plain": [
              "                   createdat     make  ... creation_date  creation_month\n",
              "349538  2020-12-18T12:15:57Z     Fiat  ...    2020-12-18         2020-12\n",
              "321129  2020-12-11T08:44:26Z     Fiat  ...    2020-12-11         2020-12\n",
              "95288   2020-10-22T17:46:44Z     Fiat  ...    2020-10-22         2020-10\n",
              "368904  2020-12-23T11:40:55Z  Hyundai  ...    2020-12-23         2020-12\n",
              "361877  2020-12-21T16:50:51Z  Renault  ...    2020-12-21         2020-12\n",
              "\n",
              "[5 rows x 15 columns]"
            ]
          },
          "metadata": {
            "tags": []
          },
          "execution_count": 31
        }
      ]
    },
    {
      "cell_type": "markdown",
      "metadata": {
        "id": "zPuspPW22DFP"
      },
      "source": [
        "Assim, os preços condizem com a realidade. Um Fiat Palio de 1997 por R$ 4500 (bem abaixo do preço da Tabela Fipe) parece legítimo."
      ]
    },
    {
      "cell_type": "markdown",
      "metadata": {
        "id": "0xSMtqT02DFQ"
      },
      "source": [
        "Além disso, vimos na análise exploratória de dados que, além de `price`, dados como `fipe_price`, `km` e `modelyear` também precisam ser limpos e ajustados. \n",
        "- `price` e `fipe_price`: consideraremos apenas preços abaixo de 1 milhão de reais.\n",
        "- `modelyear`: consideraremos apenas modelos criados após 1950. \n",
        "- `km`: consideraremos apenas quilometragens menores do que 8000000 km (um número aleatório equivalente a cerca de 20 voltas equatoriais ao redor da Terra)."
      ]
    },
    {
      "cell_type": "code",
      "metadata": {
        "colab": {
          "base_uri": "https://localhost:8080/"
        },
        "id": "MkuJQsOH2DFQ",
        "outputId": "51adb9c6-878d-4ef0-d3b3-4c724a93da1f"
      },
      "source": [
        "car = car[car['price'] < 1000000]\n",
        "car = car[car['fipe_price'] < 1000000]\n",
        "car = car[car['modelyear'] > 1949]\n",
        "car = car[car['km'] < 800000]\n",
        "car.shape"
      ],
      "execution_count": 32,
      "outputs": [
        {
          "output_type": "execute_result",
          "data": {
            "text/plain": [
              "(357368, 15)"
            ]
          },
          "metadata": {
            "tags": []
          },
          "execution_count": 32
        }
      ]
    },
    {
      "cell_type": "code",
      "metadata": {
        "colab": {
          "base_uri": "https://localhost:8080/"
        },
        "id": "3cyH2UxoCybg",
        "outputId": "8d079127-99ed-447e-b862-78f0c2b0f54a"
      },
      "source": [
        "car.info()"
      ],
      "execution_count": 33,
      "outputs": [
        {
          "output_type": "stream",
          "text": [
            "<class 'pandas.core.frame.DataFrame'>\n",
            "Int64Index: 357368 entries, 127116 to 349538\n",
            "Data columns (total 15 columns):\n",
            " #   Column          Non-Null Count   Dtype  \n",
            "---  ------          --------------   -----  \n",
            " 0   createdat       357368 non-null  object \n",
            " 1   make            357368 non-null  object \n",
            " 2   model           357368 non-null  object \n",
            " 3   modelyear       357368 non-null  int64  \n",
            " 4   fipe_price      357368 non-null  float64\n",
            " 5   price           357368 non-null  float64\n",
            " 6   km              357368 non-null  float64\n",
            " 7   region          357368 non-null  object \n",
            " 8   phonearea       357368 non-null  int64  \n",
            " 9   color           357368 non-null  object \n",
            " 10  engine          357368 non-null  object \n",
            " 11  bodystyle       357368 non-null  object \n",
            " 12  fuel            357368 non-null  object \n",
            " 13  creation_date   357368 non-null  object \n",
            " 14  creation_month  357368 non-null  object \n",
            "dtypes: float64(3), int64(2), object(10)\n",
            "memory usage: 43.6+ MB\n"
          ],
          "name": "stdout"
        }
      ]
    },
    {
      "cell_type": "markdown",
      "metadata": {
        "id": "1ZdV8ifr2DFR"
      },
      "source": [
        "Variáveis como `modelyear` e `phonearea` são inicialmente percebidas como numéricas. No entanto, são variáveis categóricas."
      ]
    },
    {
      "cell_type": "code",
      "metadata": {
        "id": "7-TurcB82DFR"
      },
      "source": [
        "car['modelyear'] = car['modelyear'].astype('category')\n",
        "car['phonearea'] = car['phonearea'].astype('category')"
      ],
      "execution_count": 34,
      "outputs": []
    },
    {
      "cell_type": "code",
      "metadata": {
        "id": "CqE9eG_H2DFS"
      },
      "source": [
        "from sklearn.model_selection import train_test_split\n",
        "\n",
        "train, test = train_test_split(car, test_size=0.2, random_state=42)"
      ],
      "execution_count": 35,
      "outputs": []
    },
    {
      "cell_type": "markdown",
      "metadata": {
        "id": "e1ruz2vv2DFS"
      },
      "source": [
        "## Modelagem de dados\n",
        "\n",
        "O modelo de regressão com dados em painel (*stacked regression*) foi escolhido pois:\n",
        "1. É um modelo caixa-branca, isto é, um modelo em que podemos explicar com detalhe como funcionam seus mecanismos internos de cálculo de variáveis. Em contraste, modelos caixa-preta, como Random Forest e Redes Neurais, possuem um alto nível de opacidade e dependência de processos aleatórios. Apesar de modelos caixa-preta serem pervasivos e muito úteis na área de Ciência de Dados e Machine Learning, existe uma tendência no mundo das finanças a utilizar algoritmos caixa-branca para prever preços, devido a questões de transparência fiscal e sensitividade orçamentária."
      ]
    },
    {
      "cell_type": "markdown",
      "metadata": {
        "id": "AzJnPS8P2DFS"
      },
      "source": [
        "#### Variável-alvo (*target variable*)\n",
        "\n",
        "Como nosso objetivo é prever a variável-alvo `price`, vamos destrinchá-la um pouco."
      ]
    },
    {
      "cell_type": "code",
      "metadata": {
        "colab": {
          "base_uri": "https://localhost:8080/",
          "height": 624
        },
        "id": "uaMYxAPT2DFT",
        "outputId": "5e4fb4c2-7d68-4ca5-c600-0afe115c8149"
      },
      "source": [
        "from scipy import stats\n",
        "from scipy.stats import norm, skew\n",
        "\n",
        "sns.distplot(car['price'] , fit=norm);\n",
        "\n",
        "# Obter parâmetros da função\n",
        "(mu, sigma) = norm.fit(car['price'])\n",
        "print( '\\n mu = {:.2f} e sigma = {:.2f}\\n'.format(mu, sigma))\n",
        "\n",
        "# Plotar\n",
        "plt.legend(['Normal dist. ($\\mu=$ {:.2f} and $\\sigma=$ {:.2f} )'.format(mu, sigma)],\n",
        "            loc='best')\n",
        "plt.ylabel('Frequência')\n",
        "plt.title('Distribuição dos preços')\n",
        "\n",
        "#Get also the QQ-plot\n",
        "fig = plt.figure()\n",
        "res = stats.probplot(car['price'], plot=plt)\n",
        "plt.show()"
      ],
      "execution_count": 36,
      "outputs": [
        {
          "output_type": "stream",
          "text": [
            "\n",
            " mu = 56374.48 e sigma = 41579.56\n",
            "\n"
          ],
          "name": "stdout"
        },
        {
          "output_type": "display_data",
          "data": {
            "image/png": "[encoded data removed]",
            "text/plain": [
              "<Figure size 432x288 with 1 Axes>"
            ]
          },
          "metadata": {
            "tags": [],
            "needs_background": "light"
          }
        },
        {
          "output_type": "display_data",
          "data": {
            "image/png": "[encoded data removed]",
            "text/plain": [
              "<Figure size 432x288 with 1 Axes>"
            ]
          },
          "metadata": {
            "tags": [],
            "needs_background": "light"
          }
        }
      ]
    },
    {
      "cell_type": "markdown",
      "metadata": {
        "id": "1NjDMvI_2DFT"
      },
      "source": [
        "Como observado anteriormente, temos uma forte assimetria para a esquerda. Veículos mais caros tendem a variar de preço mais acentuadamente (à direita). No entanto, para utilizarmos um modelo de regressão linear, precisamos transformar essa variável de modo a deixá-la em distribuição normal."
      ]
    },
    {
      "cell_type": "markdown",
      "metadata": {
        "id": "HM38927y2DFT"
      },
      "source": [
        "#### Transformação logarítmica"
      ]
    },
    {
      "cell_type": "code",
      "metadata": {
        "colab": {
          "base_uri": "https://localhost:8080/",
          "height": 624
        },
        "id": "hUGkGDZS2DFU",
        "outputId": "a13c7f93-fa5b-40d8-fc7a-023525f14d4c"
      },
      "source": [
        "# Log transformation\n",
        "\n",
        "car[\"price\"] = np.log1p(car[\"price\"])\n",
        "\n",
        "sns.distplot(car['price'] , fit=norm);\n",
        "\n",
        "# Obter parâmetros da função\n",
        "(mu, sigma) = norm.fit(car['price'])\n",
        "print( '\\n mu = {:.2f} e sigma = {:.2f}\\n'.format(mu, sigma))\n",
        "\n",
        "# Plotar\n",
        "plt.legend(['Distribuição normal ($\\mu=$ {:.2f} e $\\sigma=$ {:.2f} )'.format(mu, sigma)], loc='best')\n",
        "plt.ylabel('Frequência')\n",
        "plt.title('Distribuição de preços')\n",
        "\n",
        "# QQ-plot\n",
        "fig = plt.figure()\n",
        "res = stats.probplot(car['price'], plot=plt)\n",
        "plt.show()"
      ],
      "execution_count": 37,
      "outputs": [
        {
          "output_type": "stream",
          "text": [
            "\n",
            " mu = 10.79 e sigma = 0.52\n",
            "\n"
          ],
          "name": "stdout"
        },
        {
          "output_type": "display_data",
          "data": {
            "image/png": "[encoded data removed]",
            "text/plain": [
              "<Figure size 432x288 with 1 Axes>"
            ]
          },
          "metadata": {
            "tags": [],
            "needs_background": "light"
          }
        },
        {
          "output_type": "display_data",
          "data": {
            "image/png": "[encoded data removed]",
            "text/plain": [
              "<Figure size 432x288 with 1 Axes>"
            ]
          },
          "metadata": {
            "tags": [],
            "needs_background": "light"
          }
        }
      ]
    },
    {
      "cell_type": "markdown",
      "metadata": {
        "id": "WlRp3AGF2DFU"
      },
      "source": [
        "Parece difícil normalizar os dados, mesmo com os outliers eliminados. A distribuição continua ligeiramente assimétrica para a direita. Isso acontece porque os carros de valores mais altos fogem bastante do padrão linear da maioria do mercado. Vamos continuar testando o modelo a partir dessa transformação; mas é importante destacar que, caso o modelo dê errado, este será um importante ponto para voltarmos e ajustarmos."
      ]
    },
    {
      "cell_type": "markdown",
      "metadata": {
        "id": "-vmIOHs-2DFU"
      },
      "source": [
        "#### Assimetria das variáveis numéricas"
      ]
    },
    {
      "cell_type": "code",
      "metadata": {
        "colab": {
          "base_uri": "https://localhost:8080/",
          "height": 142
        },
        "id": "WSe4uKtj2DFV",
        "outputId": "4c1654cc-5d6f-4444-fbbe-794331a37637"
      },
      "source": [
        "# avaliar dataset inteiro\n",
        "numeric_feats = car.dtypes[car.dtypes == \"float64\"].index\n",
        "\n",
        "# checar assimetria das variáveis numéricas\n",
        "skewed_feats = car[numeric_feats].apply(lambda x: skew(x.dropna())).sort_values(ascending=False)\n",
        "skewness = pd.DataFrame({'Skew' :skewed_feats})\n",
        "skewness"
      ],
      "execution_count": 38,
      "outputs": [
        {
          "output_type": "execute_result",
          "data": {
            "text/html": [
              "<div>\n",
              "<style scoped>\n",
              "    .dataframe tbody tr th:only-of-type {\n",
              "        vertical-align: middle;\n",
              "    }\n",
              "\n",
              "    .dataframe tbody tr th {\n",
              "        vertical-align: top;\n",
              "    }\n",
              "\n",
              "    .dataframe thead th {\n",
              "        text-align: right;\n",
              "    }\n",
              "</style>\n",
              "<table border=\"1\" class=\"dataframe\">\n",
              "  <thead>\n",
              "    <tr style=\"text-align: right;\">\n",
              "      <th></th>\n",
              "      <th>Skew</th>\n",
              "    </tr>\n",
              "  </thead>\n",
              "  <tbody>\n",
              "    <tr>\n",
              "      <th>fipe_price</th>\n",
              "      <td>4.962508</td>\n",
              "    </tr>\n",
              "    <tr>\n",
              "      <th>km</th>\n",
              "      <td>1.854342</td>\n",
              "    </tr>\n",
              "    <tr>\n",
              "      <th>price</th>\n",
              "      <td>0.596179</td>\n",
              "    </tr>\n",
              "  </tbody>\n",
              "</table>\n",
              "</div>"
            ],
            "text/plain": [
              "                Skew\n",
              "fipe_price  4.962508\n",
              "km          1.854342\n",
              "price       0.596179"
            ]
          },
          "metadata": {
            "tags": []
          },
          "execution_count": 38
        }
      ]
    },
    {
      "cell_type": "markdown",
      "metadata": {
        "id": "jpe7PRLV2DFV"
      },
      "source": [
        "#### Transformação Box Cox de elementos altamente assimétricos\n"
      ]
    },
    {
      "cell_type": "code",
      "metadata": {
        "colab": {
          "base_uri": "https://localhost:8080/"
        },
        "id": "Dhq1kmvV2DFW",
        "outputId": "657b5cb1-b72d-4ca3-b8d5-46e00f80912b"
      },
      "source": [
        "skewness = skewness[abs(skewness) > 0.75]\n",
        "print(\"There are {} skewed numerical features to Box Cox transform\".format(skewness.shape[0]))\n",
        "\n",
        "from scipy.special import boxcox1p\n",
        "skewed_features = skewness.index\n",
        "lam = 0.15\n",
        "for feat in skewed_features:\n",
        "    car[feat] = boxcox1p(car[feat], lam)"
      ],
      "execution_count": 39,
      "outputs": [
        {
          "output_type": "stream",
          "text": [
            "There are 3 skewed numerical features to Box Cox transform\n"
          ],
          "name": "stdout"
        }
      ]
    },
    {
      "cell_type": "markdown",
      "metadata": {
        "id": "sPDI0NIj2DFW"
      },
      "source": [
        "#### Dummy categorical features"
      ]
    },
    {
      "cell_type": "code",
      "metadata": {
        "colab": {
          "base_uri": "https://localhost:8080/"
        },
        "id": "EfexUs6l2DFY",
        "outputId": "49a379e1-f304-4f30-d667-41e0b611de03"
      },
      "source": [
        "print('Tipos diferentes de fabricantes no dataset:', len(car['make'].unique()))\n",
        "print('Tipos diferentes de modelos no dataset:', len(car['model'].unique()))\n",
        "print('Anos diferentes no dataset:', len(car['modelyear'].unique()))\n",
        "print('Estados diferentes no dataset:', len(car['region'].unique()))\n",
        "print('Áreas telefônicas diferentes no dataset:', len(car['phonearea'].unique()))\n",
        "print('Cores diferentes no dataset:', len(car['color'].unique()))\n",
        "print('Tipos diferentes de motores no dataset:', len(car['engine'].unique()))\n",
        "print('Tipos de veículos diferentes no dataset:', len(car['bodystyle'].unique()))\n",
        "print('Tipos de combustíveis diferentes no dataset:', len(car['modelyear'].unique()))\n",
        "print('Meses diferentes em que os dados foram capturados da Tabela Fipe:', len(car['creation_month'].unique()))"
      ],
      "execution_count": 40,
      "outputs": [
        {
          "output_type": "stream",
          "text": [
            "Tipos diferentes de fabricantes no dataset: 46\n",
            "Tipos diferentes de modelos no dataset: 539\n",
            "Anos diferentes no dataset: 28\n",
            "Estados diferentes no dataset: 27\n",
            "Áreas telefônicas diferentes no dataset: 65\n",
            "Cores diferentes no dataset: 18\n",
            "Tipos diferentes de motores no dataset: 52\n",
            "Tipos de veículos diferentes no dataset: 9\n",
            "Tipos de combustíveis diferentes no dataset: 28\n",
            "Meses diferentes em que os dados foram capturados da Tabela Fipe: 3\n"
          ],
          "name": "stdout"
        }
      ]
    },
    {
      "cell_type": "markdown",
      "metadata": {
        "id": "-2AVqkA82DFY"
      },
      "source": [
        "Ao restringirmos veículos de preço muito alto, diminuímos consideravelmente a quantidade de tipos diferentes de motores (de 209 tipos detectados anteriormente para 52 tipos agora). Isso indica que carros muito caros tendem a possuir motores diferenciados.\n",
        "\n",
        "Para criarmos uma matriz esparsa com base nessas variáveis categóricas, vamos reduzir a memória utilizada por estes dados. O `pandas` permite a conversão de arquivos tipo `object` para `category`, como uma transformação maquiada de `str` para `int`, o que reduz uso de memória."
      ]
    },
    {
      "cell_type": "code",
      "metadata": {
        "colab": {
          "base_uri": "https://localhost:8080/"
        },
        "id": "pW2jhRU12DFY",
        "outputId": "993c242d-67b4-489f-aa47-4bb81716740c"
      },
      "source": [
        "carcat = car.drop(['fipe_price', 'price', 'km', 'createdat', 'creation_date'], axis=1)\n",
        "car_cat = carcat.astype('category')\n",
        "car_cat = pd.get_dummies(car_cat)\n",
        "carcat2 = car[['fipe_price', 'price', 'km']]\n",
        "df_final = pd.concat([car_cat, carcat2], axis=1, join=\"inner\")\n",
        "df_final.shape"
      ],
      "execution_count": 41,
      "outputs": [
        {
          "output_type": "execute_result",
          "data": {
            "text/plain": [
              "(357368, 793)"
            ]
          },
          "metadata": {
            "tags": []
          },
          "execution_count": 41
        }
      ]
    },
    {
      "cell_type": "code",
      "metadata": {
        "colab": {
          "base_uri": "https://localhost:8080/"
        },
        "id": "n1_WNlVM2DFZ",
        "outputId": "17b6757b-05da-4520-a679-6712207af028"
      },
      "source": [
        "car.info(memory_usage='deep')"
      ],
      "execution_count": 42,
      "outputs": [
        {
          "output_type": "stream",
          "text": [
            "<class 'pandas.core.frame.DataFrame'>\n",
            "Int64Index: 357368 entries, 127116 to 349538\n",
            "Data columns (total 15 columns):\n",
            " #   Column          Non-Null Count   Dtype   \n",
            "---  ------          --------------   -----   \n",
            " 0   createdat       357368 non-null  object  \n",
            " 1   make            357368 non-null  object  \n",
            " 2   model           357368 non-null  object  \n",
            " 3   modelyear       357368 non-null  category\n",
            " 4   fipe_price      357368 non-null  float64 \n",
            " 5   price           357368 non-null  float64 \n",
            " 6   km              357368 non-null  float64 \n",
            " 7   region          357368 non-null  object  \n",
            " 8   phonearea       357368 non-null  category\n",
            " 9   color           357368 non-null  object  \n",
            " 10  engine          357368 non-null  object  \n",
            " 11  bodystyle       357368 non-null  object  \n",
            " 12  fuel            357368 non-null  object  \n",
            " 13  creation_date   357368 non-null  object  \n",
            " 14  creation_month  357368 non-null  object  \n",
            "dtypes: category(2), float64(3), object(10)\n",
            "memory usage: 245.0 MB\n"
          ],
          "name": "stdout"
        }
      ]
    },
    {
      "cell_type": "code",
      "metadata": {
        "colab": {
          "base_uri": "https://localhost:8080/"
        },
        "id": "e_Pm_KMB2DFa",
        "outputId": "13dba6d0-fd20-49c1-ce77-4706c4ba358f"
      },
      "source": [
        "df_final.info(memory_usage='deep')"
      ],
      "execution_count": 43,
      "outputs": [
        {
          "output_type": "stream",
          "text": [
            "<class 'pandas.core.frame.DataFrame'>\n",
            "Int64Index: 357368 entries, 127116 to 349538\n",
            "Columns: 793 entries, make_Audi to km\n",
            "dtypes: float64(3), uint8(790)\n",
            "memory usage: 290.1 MB\n"
          ],
          "name": "stdout"
        }
      ]
    },
    {
      "cell_type": "markdown",
      "metadata": {
        "id": "H-P5963JHfAn"
      },
      "source": [
        "Ambos os datasets fazem o mesmo uso de memória, mesmo `car` possuindo 15 colunas e `df_final`, 793 colunas."
      ]
    },
    {
      "cell_type": "markdown",
      "metadata": {
        "id": "P5hjglTO2DFd"
      },
      "source": [
        "## Modelagem de dados\r\n",
        "\r\n",
        "Iremos testar os seguintes algoritmos:\r\n",
        "- Lasso\r\n",
        "- Elastic Net\r\n",
        "- Stochastic Gradient Descent\r\n",
        "- Light Gradient Boosting Machine"
      ]
    },
    {
      "cell_type": "markdown",
      "metadata": {
        "id": "sKkLkHoH2DFh"
      },
      "source": [
        "#### Scores"
      ]
    },
    {
      "cell_type": "code",
      "metadata": {
        "id": "s6s0nf2C8JXa"
      },
      "source": [
        "from sklearn.linear_model import ElasticNet, Lasso, SGDRegressor\r\n",
        "from sklearn.ensemble import RandomForestRegressor\r\n",
        "from sklearn.pipeline import make_pipeline\r\n",
        "from sklearn.preprocessing import RobustScaler\r\n",
        "from sklearn.model_selection import train_test_split\r\n",
        "from sklearn.metrics import mean_squared_error, mean_absolute_error\r\n",
        "import xgboost as xgb\r\n",
        "import lightgbm as lgb"
      ],
      "execution_count": 44,
      "outputs": []
    },
    {
      "cell_type": "code",
      "metadata": {
        "id": "mKA22eIJFfiG"
      },
      "source": [
        "target = df_final['price']\r\n",
        "features = df_final.drop('price', axis = 1)"
      ],
      "execution_count": 45,
      "outputs": []
    },
    {
      "cell_type": "code",
      "metadata": {
        "id": "QswNxPQ9gO1n"
      },
      "source": [
        "X_train, X_test, y_train, y_test = train_test_split(features, target, test_size=0.2, random_state=42)"
      ],
      "execution_count": 46,
      "outputs": []
    },
    {
      "cell_type": "code",
      "metadata": {
        "id": "_oPsVq6NVqWO"
      },
      "source": [
        "lasso = make_pipeline(RobustScaler(), Lasso())\r\n",
        "ENet = make_pipeline(RobustScaler(), ElasticNet())\r\n",
        "sgd_reg = make_pipeline(RobustScaler(), SGDRegressor(n_iter_no_change=50, penalty=None, eta0=0.1))\r\n",
        "model_lgb = make_pipeline(RobustScaler(), lgb.LGBMRegressor())"
      ],
      "execution_count": 48,
      "outputs": []
    },
    {
      "cell_type": "code",
      "metadata": {
        "colab": {
          "base_uri": "https://localhost:8080/"
        },
        "id": "Wwcfn3ISVlv6",
        "outputId": "709893ae-ee47-4f44-dde0-9dbd0b75a207"
      },
      "source": [
        "lasso.fit(X_train,y_train)\r\n",
        "score = lasso.score(X_test, y_test)\r\n",
        "y_pred = lasso.predict(X_test)\r\n",
        "mse = mean_squared_error(y_test, y_pred)\r\n",
        "mae = mean_absolute_error(y_test, y_pred)\r\n",
        "print(\"Lasso score:\", score)\r\n",
        "print(\"Lasso mean squared error:\", mse)\r\n",
        "print(\"Lasso mean absolute error:\", mae)"
      ],
      "execution_count": 50,
      "outputs": [
        {
          "output_type": "stream",
          "text": [
            "Lasso score: -1.3299847295256129e-05\n",
            "Lasso mean squared error: 0.004031614357809993\n",
            "Lasso mean absolute error: 0.04816200464654519\n"
          ],
          "name": "stdout"
        }
      ]
    },
    {
      "cell_type": "code",
      "metadata": {
        "colab": {
          "base_uri": "https://localhost:8080/"
        },
        "id": "4rhK-49Zg_0e",
        "outputId": "48d237a7-e7fb-4aeb-8628-27b21dfc5ecc"
      },
      "source": [
        "ENet.fit(X_train,y_train)\r\n",
        "score = ENet.score(X_test, y_test)\r\n",
        "y_pred = ENet.predict(X_test)\r\n",
        "mse = mean_squared_error(y_test, y_pred)\r\n",
        "mae = mean_absolute_error(y_test, y_pred)\r\n",
        "print(\"Elastic Net score:\", score)\r\n",
        "print(\"Elastic Net mean squared error:\", mse)\r\n",
        "print(\"Elastic Net mean absolute error:\", mae)"
      ],
      "execution_count": 51,
      "outputs": [
        {
          "output_type": "stream",
          "text": [
            "Elastic Net score: -1.3299847295256129e-05\n",
            "Elastic Net mean squared error: 0.004031614357809993\n",
            "Elastic Net mean absolute error: 0.04816200464654519\n"
          ],
          "name": "stdout"
        }
      ]
    },
    {
      "cell_type": "code",
      "metadata": {
        "colab": {
          "base_uri": "https://localhost:8080/"
        },
        "id": "R06AhEhkhT_Y",
        "outputId": "7ff10c56-2ab9-4c1d-9c3e-dbde66e78989"
      },
      "source": [
        "sgd_reg.fit(X_train,y_train)\r\n",
        "score = sgd_reg.score(X_test, y_test)\r\n",
        "y_pred = sgd_reg.predict(X_test)\r\n",
        "mse = mean_squared_error(y_test, y_pred)\r\n",
        "mae = mean_absolute_error(y_test, y_pred)\r\n",
        "print(\"SGD score:\", score)\r\n",
        "print(\"SGD mean squared error:\", mse)\r\n",
        "print(\"SGD mean absolute error:\", mae)"
      ],
      "execution_count": 52,
      "outputs": [
        {
          "output_type": "stream",
          "text": [
            "SGD score: 0.9713839601072538\n",
            "SGD mean squared error: 0.00011536730292774748\n",
            "SGD mean absolute error: 0.007594748849062891\n"
          ],
          "name": "stdout"
        }
      ]
    },
    {
      "cell_type": "code",
      "metadata": {
        "colab": {
          "base_uri": "https://localhost:8080/"
        },
        "id": "k4LzJ7x7hpWr",
        "outputId": "40090c0d-c93b-42d6-c4e6-c61a871b88d3"
      },
      "source": [
        "model_lgb.fit(X_train,y_train)\r\n",
        "score = model_lgb.score(X_test, y_test)\r\n",
        "y_pred = model_lgb.predict(X_test)\r\n",
        "mse = mean_squared_error(y_test, y_pred)\r\n",
        "mae = mean_absolute_error(y_test, y_pred)\r\n",
        "print(\"LGBM score:\", score)\r\n",
        "print(\"LGBM mean squared error:\", mse)\r\n",
        "print(\"LGBM mean absolute error:\", mae)"
      ],
      "execution_count": 53,
      "outputs": [
        {
          "output_type": "stream",
          "text": [
            "LGBM score: 0.9762156874523118\n",
            "LGBM mean squared error: 9.588790066346373e-05\n",
            "LGBM mean absolute error: 0.006755775386300297\n"
          ],
          "name": "stdout"
        }
      ]
    }
  ]
}